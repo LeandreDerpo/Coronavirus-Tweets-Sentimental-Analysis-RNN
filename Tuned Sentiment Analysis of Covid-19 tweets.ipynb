{
 "cells": [
  {
   "cell_type": "markdown",
   "id": "96d5c1f5",
   "metadata": {},
   "source": [
    "# Libraries"
   ]
  },
  {
   "cell_type": "code",
   "execution_count": 1,
   "id": "323f4062",
   "metadata": {
    "ExecuteTime": {
     "end_time": "2022-06-05T16:48:22.898758Z",
     "start_time": "2022-06-05T16:48:05.766771Z"
    }
   },
   "outputs": [
    {
     "name": "stdout",
     "output_type": "stream",
     "text": [
      "Once deleted, variables cannot be recovered. Proceed (y/[n])? y\n"
     ]
    }
   ],
   "source": [
    "%reset\n",
    "import nltk\n",
    "from nltk.stem.porter import PorterStemmer\n",
    "from nltk.tokenize import TweetTokenizer\n",
    "from nltk.tokenize import word_tokenize\n",
    "from nltk.corpus import stopwords\n",
    "# nltk.download('stopwords')\n",
    "\n",
    "import re\n",
    "import scipy\n",
    "import seaborn as sns\n",
    "import time\n",
    "import os\n",
    "\n",
    "import numpy as np\n",
    "import pandas as pd\n",
    "\n",
    "os.environ['TF_CPP_MIN_LOG_LEVEL'] = '2' #Disables warning\n",
    "import tensorflow as tf\n",
    "from tensorflow import random\n",
    "from tensorflow.keras.preprocessing.text import Tokenizer\n",
    "from tensorflow.keras.preprocessing.sequence import pad_sequences\n",
    "import tensorflow.keras.layers as model\n",
    "from tensorflow.keras.losses import SparseCategoricalCrossentropy\n",
    "from tensorflow.keras.optimizers import Adam\n",
    "from tensorflow.keras import utils\n",
    "from tensorflow.keras.callbacks import ReduceLROnPlateau, EarlyStopping\n",
    "\n",
    "import matplotlib.pyplot as plt\n",
    "import plotly.graph_objects as go\n",
    "import plotly.express as px\n",
    "import plotly.figure_factory as ff\n",
    "%matplotlib inline\n",
    "\n",
    "import sklearn\n",
    "from sklearn.model_selection import train_test_split\n",
    "from sklearn.metrics import confusion_matrix\n",
    "from sklearn.metrics import classification_report"
   ]
  },
  {
   "cell_type": "code",
   "execution_count": 2,
   "id": "d0b2d4d0",
   "metadata": {
    "ExecuteTime": {
     "end_time": "2022-06-05T16:48:22.929270Z",
     "start_time": "2022-06-05T16:48:22.905615Z"
    }
   },
   "outputs": [
    {
     "name": "stdout",
     "output_type": "stream",
     "text": [
      "Using seeds:  340733825\n"
     ]
    }
   ],
   "source": [
    "### Set Seeds ###\n",
    "seed_value = np.uint64(np.random.randint(0,2147483647))\n",
    "seed_value = np.uint64(340733825)\n",
    "print(\"Using seeds: \",seed_value)\n",
    "os.environ['PYTHONHASHSEED'] = str(seed_value)\n",
    "np.random.seed(seed_value)\n",
    "random.set_seed(seed_value)"
   ]
  },
  {
   "cell_type": "markdown",
   "id": "fb875533",
   "metadata": {},
   "source": [
    "# Dataset Handling"
   ]
  },
  {
   "cell_type": "code",
   "execution_count": 3,
   "id": "60d90947",
   "metadata": {
    "ExecuteTime": {
     "end_time": "2022-06-05T16:48:22.944594Z",
     "start_time": "2022-06-05T16:48:22.932408Z"
    }
   },
   "outputs": [],
   "source": [
    "### Load csv. datasets ###\n",
    "main_file = '.\\\\Datasets\\\\'\n",
    "train_df = os.path.join(main_file, 'Corona_NLP_train.csv')\n",
    "test_df = os.path.join(main_file, 'Corona_NLP_test.csv')"
   ]
  },
  {
   "cell_type": "code",
   "execution_count": 4,
   "id": "d8c25c26",
   "metadata": {
    "ExecuteTime": {
     "end_time": "2022-06-05T16:48:23.280972Z",
     "start_time": "2022-06-05T16:48:22.949310Z"
    }
   },
   "outputs": [
    {
     "name": "stdout",
     "output_type": "stream",
     "text": [
      "Train dataset: 41157\n",
      "Test dataset: 3798\n"
     ]
    }
   ],
   "source": [
    "train_dataset = pd.read_csv(train_df, encoding = 'latin1')\n",
    "test_dataset = pd.read_csv(test_df, encoding = 'latin1')\n",
    "\n",
    "print('Train dataset: {}'.format(len(train_dataset)))\n",
    "print('Test dataset: {}'.format(len(test_dataset)))"
   ]
  },
  {
   "cell_type": "code",
   "execution_count": 5,
   "id": "57d6bce3",
   "metadata": {
    "ExecuteTime": {
     "end_time": "2022-06-05T16:48:23.311252Z",
     "start_time": "2022-06-05T16:48:23.284099Z"
    }
   },
   "outputs": [
    {
     "data": {
      "text/html": [
       "<div>\n",
       "<style scoped>\n",
       "    .dataframe tbody tr th:only-of-type {\n",
       "        vertical-align: middle;\n",
       "    }\n",
       "\n",
       "    .dataframe tbody tr th {\n",
       "        vertical-align: top;\n",
       "    }\n",
       "\n",
       "    .dataframe thead th {\n",
       "        text-align: right;\n",
       "    }\n",
       "</style>\n",
       "<table border=\"1\" class=\"dataframe\">\n",
       "  <thead>\n",
       "    <tr style=\"text-align: right;\">\n",
       "      <th></th>\n",
       "      <th>UserName</th>\n",
       "      <th>ScreenName</th>\n",
       "      <th>Location</th>\n",
       "      <th>TweetAt</th>\n",
       "      <th>OriginalTweet</th>\n",
       "      <th>Sentiment</th>\n",
       "    </tr>\n",
       "  </thead>\n",
       "  <tbody>\n",
       "    <tr>\n",
       "      <th>0</th>\n",
       "      <td>3799</td>\n",
       "      <td>48751</td>\n",
       "      <td>London</td>\n",
       "      <td>16-03-2020</td>\n",
       "      <td>@MeNyrbie @Phil_Gahan @Chrisitv https://t.co/i...</td>\n",
       "      <td>Neutral</td>\n",
       "    </tr>\n",
       "    <tr>\n",
       "      <th>1</th>\n",
       "      <td>3800</td>\n",
       "      <td>48752</td>\n",
       "      <td>UK</td>\n",
       "      <td>16-03-2020</td>\n",
       "      <td>advice Talk to your neighbours family to excha...</td>\n",
       "      <td>Positive</td>\n",
       "    </tr>\n",
       "    <tr>\n",
       "      <th>2</th>\n",
       "      <td>3801</td>\n",
       "      <td>48753</td>\n",
       "      <td>Vagabonds</td>\n",
       "      <td>16-03-2020</td>\n",
       "      <td>Coronavirus Australia: Woolworths to give elde...</td>\n",
       "      <td>Positive</td>\n",
       "    </tr>\n",
       "    <tr>\n",
       "      <th>3</th>\n",
       "      <td>3802</td>\n",
       "      <td>48754</td>\n",
       "      <td>NaN</td>\n",
       "      <td>16-03-2020</td>\n",
       "      <td>My food stock is not the only one which is emp...</td>\n",
       "      <td>Positive</td>\n",
       "    </tr>\n",
       "    <tr>\n",
       "      <th>4</th>\n",
       "      <td>3803</td>\n",
       "      <td>48755</td>\n",
       "      <td>NaN</td>\n",
       "      <td>16-03-2020</td>\n",
       "      <td>Me, ready to go at supermarket during the #COV...</td>\n",
       "      <td>Extremely Negative</td>\n",
       "    </tr>\n",
       "  </tbody>\n",
       "</table>\n",
       "</div>"
      ],
      "text/plain": [
       "   UserName  ScreenName   Location     TweetAt  \\\n",
       "0      3799       48751     London  16-03-2020   \n",
       "1      3800       48752         UK  16-03-2020   \n",
       "2      3801       48753  Vagabonds  16-03-2020   \n",
       "3      3802       48754        NaN  16-03-2020   \n",
       "4      3803       48755        NaN  16-03-2020   \n",
       "\n",
       "                                       OriginalTweet           Sentiment  \n",
       "0  @MeNyrbie @Phil_Gahan @Chrisitv https://t.co/i...             Neutral  \n",
       "1  advice Talk to your neighbours family to excha...            Positive  \n",
       "2  Coronavirus Australia: Woolworths to give elde...            Positive  \n",
       "3  My food stock is not the only one which is emp...            Positive  \n",
       "4  Me, ready to go at supermarket during the #COV...  Extremely Negative  "
      ]
     },
     "execution_count": 5,
     "metadata": {},
     "output_type": "execute_result"
    }
   ],
   "source": [
    "train_dataset.head()"
   ]
  },
  {
   "cell_type": "code",
   "execution_count": 6,
   "id": "2910a75a",
   "metadata": {
    "ExecuteTime": {
     "end_time": "2022-06-05T16:48:23.387228Z",
     "start_time": "2022-06-05T16:48:23.314393Z"
    }
   },
   "outputs": [
    {
     "data": {
      "text/plain": [
       "UserName            0\n",
       "ScreenName          0\n",
       "Location         8590\n",
       "TweetAt             0\n",
       "OriginalTweet       0\n",
       "Sentiment           0\n",
       "dtype: int64"
      ]
     },
     "execution_count": 6,
     "metadata": {},
     "output_type": "execute_result"
    }
   ],
   "source": [
    "### Check missing and unique values ###\n",
    "train_dataset.isnull().sum()"
   ]
  },
  {
   "cell_type": "markdown",
   "id": "38a8264d",
   "metadata": {},
   "source": [
    "# Data Pre-processing"
   ]
  },
  {
   "cell_type": "code",
   "execution_count": 7,
   "id": "c0ac7351",
   "metadata": {
    "ExecuteTime": {
     "end_time": "2022-06-05T16:48:23.402454Z",
     "start_time": "2022-06-05T16:48:23.391450Z"
    }
   },
   "outputs": [],
   "source": [
    "X_train = train_dataset['OriginalTweet'].copy()\n",
    "y_train = train_dataset['Sentiment'].copy()"
   ]
  },
  {
   "cell_type": "code",
   "execution_count": 8,
   "id": "461f9cbe",
   "metadata": {
    "ExecuteTime": {
     "end_time": "2022-06-05T16:48:30.024403Z",
     "start_time": "2022-06-05T16:48:23.406123Z"
    },
    "scrolled": false
   },
   "outputs": [
    {
     "data": {
      "text/plain": [
       "0                                                     \n",
       "1    advice Talk neighbours family exchange phone n...\n",
       "2    Coronavirus Australia: Woolworths give elderly...\n",
       "3    My food stock one empty... PLEASE, panic, THER...\n",
       "4    Me, ready go supermarket outbreak. Not I'm par...\n",
       "Name: OriginalTweet, dtype: object"
      ]
     },
     "execution_count": 8,
     "metadata": {},
     "output_type": "execute_result"
    }
   ],
   "source": [
    "def excess_cleaning(tweets):\n",
    "    \n",
    "    # removing html tags\n",
    "    tweets = re.sub(r'<.*?>',' ', tweets)\n",
    "    # removing urls\n",
    "    tweets = re.sub(r'http\\S+',' ',tweets)\n",
    "    # removing mentions\n",
    "    tweets = re.sub(r'@\\w+',' ',tweets)\n",
    "    # removing hashtags\n",
    "    tweets = re.sub(r'#\\w+',' ',tweets)\n",
    "    #removing digits\n",
    "    tweets = re.sub(r'\\d+',' ', tweets)\n",
    "    \n",
    "    # removing stop words/commonly used words\n",
    "    tweets = tweets.split()\n",
    "    tweets = \" \".join([word for word in tweets if not word in stop_words])\n",
    "    \n",
    "    return tweets\n",
    "\n",
    "stop_words = stopwords.words('english')\n",
    "X_new = X_train.apply(excess_cleaning)\n",
    "X_new.head()"
   ]
  },
  {
   "cell_type": "code",
   "execution_count": 9,
   "id": "60e280c3",
   "metadata": {
    "ExecuteTime": {
     "end_time": "2022-06-05T16:48:34.486681Z",
     "start_time": "2022-06-05T16:48:30.029640Z"
    },
    "scrolled": true
   },
   "outputs": [
    {
     "name": "stdout",
     "output_type": "stream",
     "text": [
      "Vocabulary size: 35900\n",
      "\n",
      "Case 1:\n",
      "\n",
      "Sentence:\n",
      "Cashier grocery store sharing insights To prove credibility commented \"I'm Civics class I know I'm talking about\".\n",
      "\n",
      "After tokenizing :\n",
      "[1172, 7, 4, 1267, 769, 65, 2895, 9737, 9738, 153, 18242, 1501, 2, 62, 153, 899, 957]\n",
      "\n",
      "After padding :\n",
      "[ 1172     7     4  1267   769    65  2895  9737  9738   153 18242  1501\n",
      "     2    62   153   899   957     0     0     0     0     0     0     0\n",
      "     0     0     0     0     0     0     0     0     0     0     0     0\n",
      "     0     0     0     0     0     0     0     0     0     0     0     0\n",
      "     0     0     0     0     0     0]\n"
     ]
    }
   ],
   "source": [
    "tokenizer = Tokenizer()\n",
    "tokenizer.fit_on_texts(X_new)\n",
    "vocabulary_size = len(tokenizer.word_index)+1\n",
    "print(\"Vocabulary size: {}\".format(vocabulary_size))\n",
    "print(\"\\nCase 1:\\n\")\n",
    "print(\"Sentence:\\n{}\".format(X_new[6]))\n",
    "\n",
    "X_train = tokenizer.texts_to_sequences(X_new)\n",
    "print(\"\\nAfter tokenizing :\\n{}\".format(X_train[6]))\n",
    "\n",
    "X_train = pad_sequences(X_train, padding='post')\n",
    "print(\"\\nAfter padding :\\n{}\".format(X_train[6]))"
   ]
  },
  {
   "cell_type": "code",
   "execution_count": 10,
   "id": "c8df0af8",
   "metadata": {
    "ExecuteTime": {
     "end_time": "2022-06-05T16:48:34.532670Z",
     "start_time": "2022-06-05T16:48:34.492427Z"
    }
   },
   "outputs": [],
   "source": [
    "ord_encoded = {'Extremely Negative': 0,\n",
    "            'Negative': 0,\n",
    "            'Neutral': 1,\n",
    "            'Positive':2,\n",
    "            'Extremely Positive': 2\n",
    "           }\n",
    "\n",
    "labels = ['Negative',\n",
    "          'Neutral',\n",
    "          'Positive']\n",
    "           \n",
    "y_train.replace(ord_encoded, inplace=True)"
   ]
  },
  {
   "cell_type": "code",
   "execution_count": 11,
   "id": "befec100",
   "metadata": {
    "ExecuteTime": {
     "end_time": "2022-06-05T16:48:34.547853Z",
     "start_time": "2022-06-05T16:48:34.536850Z"
    }
   },
   "outputs": [],
   "source": [
    "### hyper parameters ###\n",
    "EPOCHS = 2\n",
    "BATCH_SIZE = 32\n",
    "embedding_dimension = 16\n",
    "units = 256\n",
    "validation_split = 0.12\n",
    "verbose = 1"
   ]
  },
  {
   "cell_type": "markdown",
   "id": "e4c16e87",
   "metadata": {},
   "source": [
    "# Model Architecture"
   ]
  },
  {
   "cell_type": "code",
   "execution_count": 12,
   "id": "e8ad8360",
   "metadata": {
    "ExecuteTime": {
     "end_time": "2022-06-05T16:48:36.408800Z",
     "start_time": "2022-06-05T16:48:34.551496Z"
    }
   },
   "outputs": [
    {
     "name": "stdout",
     "output_type": "stream",
     "text": [
      "Model: \"sequential\"\n",
      "_________________________________________________________________\n",
      "Layer (type)                 Output Shape              Param #   \n",
      "=================================================================\n",
      "embedding (Embedding)        (None, 54, 16)            574400    \n",
      "_________________________________________________________________\n",
      "bidirectional (Bidirectional (None, 54, 512)           559104    \n",
      "_________________________________________________________________\n",
      "global_max_pooling1d (Global (None, 512)               0         \n",
      "_________________________________________________________________\n",
      "dropout (Dropout)            (None, 512)               0         \n",
      "_________________________________________________________________\n",
      "dense (Dense)                (None, 64)                32832     \n",
      "_________________________________________________________________\n",
      "dropout_1 (Dropout)          (None, 64)                0         \n",
      "_________________________________________________________________\n",
      "dense_1 (Dense)              (None, 3)                 195       \n",
      "=================================================================\n",
      "Total params: 1,166,531\n",
      "Trainable params: 1,166,531\n",
      "Non-trainable params: 0\n",
      "_________________________________________________________________\n",
      "CPU times: total: 2.02 s\n",
      "Wall time: 1.84 s\n"
     ]
    }
   ],
   "source": [
    "%%time\n",
    "tf.keras.backend.clear_session()\n",
    "\n",
    "model = tf.keras.Sequential([\n",
    "    model.Embedding(vocabulary_size, embedding_dimension, input_length=X_train.shape[1]),\n",
    "    model.Bidirectional(model.LSTM(units,return_sequences=True)),\n",
    "    model.GlobalMaxPool1D(),\n",
    "    model.Dropout(0.4),\n",
    "    model.Dense(64, activation=\"relu\"),\n",
    "    model.Dropout(0.4),\n",
    "    model.Dense(3)\n",
    "])\n",
    "\n",
    "model.summary()"
   ]
  },
  {
   "cell_type": "code",
   "execution_count": 13,
   "id": "8497f1be",
   "metadata": {
    "ExecuteTime": {
     "end_time": "2022-06-05T16:48:36.454347Z",
     "start_time": "2022-06-05T16:48:36.413513Z"
    }
   },
   "outputs": [],
   "source": [
    "model.compile(loss=SparseCategoricalCrossentropy(from_logits=True),\n",
    "              optimizer='adam',\n",
    "              metrics=['accuracy'])"
   ]
  },
  {
   "cell_type": "code",
   "execution_count": 14,
   "id": "85ad2115",
   "metadata": {
    "ExecuteTime": {
     "end_time": "2022-06-05T16:48:36.469538Z",
     "start_time": "2022-06-05T16:48:36.460624Z"
    }
   },
   "outputs": [],
   "source": [
    "CALLBACKS = [ ReduceLROnPlateau(monitor='val_loss', patience=5, cooldown=0),\n",
    "              EarlyStopping(monitor='val_accuracy', min_delta=1e-4, patience=5)]"
   ]
  },
  {
   "cell_type": "code",
   "execution_count": 15,
   "id": "25ff0406",
   "metadata": {
    "ExecuteTime": {
     "end_time": "2022-06-05T16:56:48.044449Z",
     "start_time": "2022-06-05T16:48:36.474789Z"
    },
    "scrolled": true
   },
   "outputs": [
    {
     "name": "stdout",
     "output_type": "stream",
     "text": [
      "Epoch 1/2\n",
      "1132/1132 [==============================] - 251s 212ms/step - loss: 0.6743 - accuracy: 0.7028 - val_loss: 0.4097 - val_accuracy: 0.8571\n",
      "Epoch 2/2\n",
      "1132/1132 [==============================] - 240s 212ms/step - loss: 0.3396 - accuracy: 0.8907 - val_loss: 0.3564 - val_accuracy: 0.8803\n",
      "CPU times: total: 52min 45s\n",
      "Wall time: 8min 11s\n"
     ]
    }
   ],
   "source": [
    "%%time\n",
    "history = model.fit(X_train, y_train, \n",
    "                    epochs=EPOCHS, \n",
    "                    validation_split=validation_split,\n",
    "                    verbose=verbose,\n",
    "                    batch_size=BATCH_SIZE,\n",
    "                    callbacks=CALLBACKS)"
   ]
  },
  {
   "cell_type": "code",
   "execution_count": 16,
   "id": "77c45227",
   "metadata": {
    "ExecuteTime": {
     "end_time": "2022-06-05T16:56:48.551446Z",
     "start_time": "2022-06-05T16:56:48.049144Z"
    },
    "scrolled": true
   },
   "outputs": [
    {
     "data": {
      "image/png": "[encoded data removed]",
      "text/plain": [
       "<Figure size 432x288 with 1 Axes>"
      ]
     },
     "metadata": {
      "needs_background": "light"
     },
     "output_type": "display_data"
    }
   ],
   "source": [
    "loss = history.history['loss']\n",
    "val_loss = history.history['val_loss']\n",
    "\n",
    "epochs = range(len(loss))\n",
    "\n",
    "plt.plot(epochs, loss, 'g', label = 'Training Loss')\n",
    "plt.plot(epochs, val_loss, 'b', label = 'Validation loss')\n",
    "plt.title('Training and Validation Loss')\n",
    "plt.xlabel('Epochs')\n",
    "plt.ylabel('Loss')\n",
    "\n",
    "plt.legend()\n",
    "plt.show()"
   ]
  },
  {
   "cell_type": "code",
   "execution_count": 17,
   "id": "f66a5e9b",
   "metadata": {
    "ExecuteTime": {
     "end_time": "2022-06-05T16:56:48.873117Z",
     "start_time": "2022-06-05T16:56:48.554594Z"
    }
   },
   "outputs": [
    {
     "data": {
      "image/png": "[encoded data removed]",
      "text/plain": [
       "<Figure size 432x288 with 1 Axes>"
      ]
     },
     "metadata": {
      "needs_background": "light"
     },
     "output_type": "display_data"
    }
   ],
   "source": [
    "accuracy = history.history['accuracy']\n",
    "val_accuracy = history.history['val_accuracy']\n",
    "\n",
    "epochs = range(len(accuracy))\n",
    "\n",
    "plt.plot(epochs, accuracy, 'g', label='Training accuracy')\n",
    "plt.plot(epochs, val_accuracy, 'b', label='Validation accuracy')\n",
    "plt.title('Training and Validation accuracy')\n",
    "plt.xlabel('Epochs')\n",
    "plt.ylabel('Accuracy')\n",
    "\n",
    "plt.legend()\n",
    "plt.show()"
   ]
  },
  {
   "cell_type": "code",
   "execution_count": 18,
   "id": "935b5592",
   "metadata": {
    "ExecuteTime": {
     "end_time": "2022-06-05T16:56:49.992240Z",
     "start_time": "2022-06-05T16:56:48.876760Z"
    }
   },
   "outputs": [],
   "source": [
    "X_test = test_dataset['OriginalTweet'].copy()\n",
    "y_test = test_dataset['Sentiment'].copy()\n",
    "\n",
    "X_test = X_test.apply(excess_cleaning)\n",
    "X_test = tokenizer.texts_to_sequences(X_test)\n",
    "X_test = pad_sequences(X_test, padding='post')\n",
    "\n",
    "y_test.replace(ord_encoded, inplace=True)"
   ]
  },
  {
   "cell_type": "code",
   "execution_count": 19,
   "id": "47f26ce1",
   "metadata": {
    "ExecuteTime": {
     "end_time": "2022-06-05T16:57:02.937447Z",
     "start_time": "2022-06-05T16:56:49.996414Z"
    }
   },
   "outputs": [
    {
     "name": "stdout",
     "output_type": "stream",
     "text": [
      "WARNING:tensorflow:Model was constructed with shape (None, 54) for input KerasTensor(type_spec=TensorSpec(shape=(None, 54), dtype=tf.float32, name='embedding_input'), name='embedding_input', description=\"created by layer 'embedding_input'\"), but it was called on an input with incompatible shape (None, 48).\n",
      "WARNING:tensorflow:Model was constructed with shape (None, 54) for input KerasTensor(type_spec=TensorSpec(shape=(None, 54), dtype=tf.float32, name='embedding_input'), name='embedding_input', description=\"created by layer 'embedding_input'\"), but it was called on an input with incompatible shape (None, 48).\n",
      "\n",
      "ACCURACY:  0.855186939239502\n",
      "LOSS:  0.41730010509490967\n"
     ]
    }
   ],
   "source": [
    "y_pred = np.argmax(model.predict(X_test), axis=-1)\n",
    "score = model.evaluate(X_test, y_test, verbose = 0, batch_size = BATCH_SIZE)\n",
    "print()\n",
    "\n",
    "print(\"ACCURACY: \", score[1])\n",
    "print(\"LOSS: \", score[0])"
   ]
  },
  {
   "cell_type": "code",
   "execution_count": 20,
   "id": "83626dbe",
   "metadata": {
    "ExecuteTime": {
     "end_time": "2022-06-05T16:57:03.078034Z",
     "start_time": "2022-06-05T16:57:02.941617Z"
    }
   },
   "outputs": [],
   "source": [
    "model.save('.\\\\Covid19_Analysis\\\\Datasets\\\\best_sentimentanalysis_model.h5')"
   ]
  },
  {
   "cell_type": "code",
   "execution_count": 21,
   "id": "72cb1e4e",
   "metadata": {
    "ExecuteTime": {
     "end_time": "2022-06-05T16:57:03.123427Z",
     "start_time": "2022-06-05T16:57:03.082208Z"
    },
    "scrolled": true
   },
   "outputs": [
    {
     "name": "stdout",
     "output_type": "stream",
     "text": [
      "              precision    recall  f1-score   support\n",
      "\n",
      "    Negative       0.88      0.82      0.85      1633\n",
      "     Neutral       0.89      0.79      0.84       619\n",
      "    Positive       0.82      0.91      0.86      1546\n",
      "\n",
      "    accuracy                           0.86      3798\n",
      "   macro avg       0.86      0.84      0.85      3798\n",
      "weighted avg       0.86      0.86      0.85      3798\n",
      "\n"
     ]
    }
   ],
   "source": [
    "print(classification_report(y_test, y_pred, target_names=labels))"
   ]
  },
  {
   "cell_type": "code",
   "execution_count": 22,
   "id": "e5ad8771",
   "metadata": {
    "ExecuteTime": {
     "end_time": "2022-06-05T16:57:03.518389Z",
     "start_time": "2022-06-05T16:57:03.128120Z"
    },
    "scrolled": false
   },
   "outputs": [
    {
     "data": {
      "image/png": "[encoded data removed]",
      "text/plain": [
       "<Figure size 864x864 with 2 Axes>"
      ]
     },
     "metadata": {
      "needs_background": "light"
     },
     "output_type": "display_data"
    }
   ],
   "source": [
    "conf_mat = confusion_matrix(y_test, y_pred)\n",
    "\n",
    "cm = pd.DataFrame(\n",
    "    conf_mat, index = [i for i in labels],\n",
    "    columns = [i for i in labels]\n",
    ")\n",
    "\n",
    "plt.figure(figsize = (12,12))\n",
    "sns.heatmap(cm, annot=True, fmt=\"d\")\n",
    "plt.show()"
   ]
  },
  {
   "cell_type": "code",
   "execution_count": 23,
   "id": "bd8a8abc",
   "metadata": {
    "ExecuteTime": {
     "end_time": "2022-06-05T16:57:03.533582Z",
     "start_time": "2022-06-05T16:57:03.521513Z"
    },
    "code_folding": []
   },
   "outputs": [],
   "source": [
    "max_length = 350\n",
    "### Predict if tweet is positive or negative ###\n",
    "def predict_sentiment(input):\n",
    "    tweet = input\n",
    "    tweet_sequences = tokenizer.texts_to_sequences(tweet)\n",
    "    # Padded Sequence\n",
    "    padded = pad_sequences(tweet_sequences, padding='post', maxlen=max_length)\n",
    "    # Obtain based on probability 1 if probability >= 0.5 else 0\n",
    "    prediction = y_pred \n",
    "    pred_labels = []\n",
    "    for i in prediction:\n",
    "        if i >= 0.5:\n",
    "            pred_labels.append(1)\n",
    "        else:\n",
    "            pred_labels.append(0)\n",
    "    for i in range(len(tweet)):\n",
    "        print(tweet[i])\n",
    "        if pred_labels[i] == 1:\n",
    "            s = 'Positive'\n",
    "        elif pred_labels[i] == 0:\n",
    "            s = 'Negative'\n",
    "        else:\n",
    "            s = 'Neutral'\n",
    "        print(\"Predicted sentiment : \",s)"
   ]
  },
  {
   "cell_type": "code",
   "execution_count": 24,
   "id": "64d042fe",
   "metadata": {
    "ExecuteTime": {
     "end_time": "2022-06-05T16:57:03.564144Z",
     "start_time": "2022-06-05T16:57:03.536734Z"
    }
   },
   "outputs": [
    {
     "name": "stdout",
     "output_type": "stream",
     "text": [
      "Covid brings catastrophic effect on your body\n",
      "Predicted sentiment :  Negative\n",
      "It would better to stay away from Covid\n",
      "Predicted sentiment :  Positive\n",
      "Not going outside is a must\n",
      "Predicted sentiment :  Positive\n",
      "We dont want people to be coughing outside\n",
      "Predicted sentiment :  Negative\n",
      "Always wear your mask outside\n",
      "Predicted sentiment :  Positive\n"
     ]
    }
   ],
   "source": [
    "predict_sentiment([\"Covid brings catastrophic effect on your body\", \n",
    "                   \"It would better to stay away from Covid\",\n",
    "                   \"Not going outside is a must\",\n",
    "                   \"We dont want people to be coughing outside\",\n",
    "                   \"Always wear your mask outside\"])"
   ]
  },
  {
   "cell_type": "markdown",
   "id": "48d463fb",
   "metadata": {},
   "source": [
    "# Hyper-Parameter Tuning for 2 max trials with 2 epochs"
   ]
  },
  {
   "cell_type": "code",
   "execution_count": 29,
   "id": "b9962172",
   "metadata": {
    "ExecuteTime": {
     "end_time": "2022-06-05T17:37:30.826093Z",
     "start_time": "2022-06-05T17:34:38.118477Z"
    },
    "scrolled": true
   },
   "outputs": [
    {
     "name": "stdout",
     "output_type": "stream",
     "text": [
      "Trial 2 Complete [00h 01m 33s]\n",
      "accuracy: 0.8966135382652283\n",
      "\n",
      "Best accuracy So Far: 0.8966135382652283\n",
      "Total elapsed time: 00h 02m 48s\n",
      "INFO:tensorflow:Oracle triggered exit\n",
      "CPU times: total: 14min 57s\n",
      "Wall time: 2min 52s\n"
     ]
    }
   ],
   "source": [
    "%%time\n",
    "#2 epoch con 2 max_trials\n",
    "from tensorflow import keras\n",
    "from keras_tuner import BayesianOptimization\n",
    "from tensorflow.keras.models import Sequential\n",
    "from tensorflow.keras.layers import Dense, Dropout, Embedding, LSTM, Bidirectional, GlobalMaxPool1D\n",
    "\n",
    "\n",
    "def build_model(hyperparameter):\n",
    "    model = Sequential()\n",
    "    hp_units1 = hyperparameter.Int('units1', min_value=32, max_value=512, step=32)\n",
    "    hp_units2 = hyperparameter.Int('units2', min_value=32, max_value=512, step=32)\n",
    "    model.add(Embedding(vocabulary_size, embedding_dimension, input_length = X_train.shape[1]))\n",
    "    model.add(Bidirectional(LSTM(units = hp_units1,return_sequences=True))) #model.add(Bidirectional(LSTM(units = hp.Int(units, min_value = 32, max_value = 512, step = 32),return_sequences=True)))\n",
    "    model.add(GlobalMaxPool1D())\n",
    "    model.add(Dropout(0.4))\n",
    "    model.add(Dense(units = hp_units2, activation = 'relu')) #model.add(Dense(units = hp.Int(64, min_value = 32, max_value = 512, step = 32), activation = 'relu'))\n",
    "    model.add(Dropout(0.4))\n",
    "    model.add(Dense(3))\n",
    "\n",
    "    model.compile(loss=SparseCategoricalCrossentropy(from_logits=True), metrics=['accuracy'], \n",
    "                  optimizer=Adam(hyperparameter.Choice('learning_rate',values=[1e-2, 1e-3, 1e-4])))\n",
    "\n",
    "    return model\n",
    "\n",
    "bayesian_optimizer_tuner = BayesianOptimization(build_model,\n",
    "                                                objective='accuracy',\n",
    "                                                max_trials=2,\n",
    "                                                executions_per_trial=1,\n",
    "                                                directory=os.path.normpath('.\\\\Datasets\\\\'),\n",
    "                                                project_name = 'sentiment_analysis_covid19_tweets',\n",
    "                                                overwrite=True)\n",
    "\n",
    "EVALUATION_INTERVAL = 200\n",
    "EPOCHS = 2\n",
    "stop_early = EarlyStopping(monitor='val_loss', patience=5) #min_delta=1e-4, patience=5\n",
    "\n",
    "bayesian_optimizer_tuner.search(X_train, y_train,\n",
    "                               epochs=EPOCHS,\n",
    "                               validation_data=(X_test, y_test),\n",
    "                               validation_steps=50,\n",
    "                               validation_split=1.2,\n",
    "                               steps_per_epoch=EVALUATION_INTERVAL,\n",
    "                               callbacks=[stop_early]\n",
    "                               #verbose=1\n",
    "                               )\n",
    "\n",
    "bayes_opt_model_best_model = bayesian_optimizer_tuner.get_best_models(num_models=1)\n",
    "model = bayes_opt_model_best_model"
   ]
  },
  {
   "cell_type": "code",
   "execution_count": 31,
   "id": "9d8b0d60",
   "metadata": {
    "ExecuteTime": {
     "end_time": "2022-06-05T17:39:59.860780Z",
     "start_time": "2022-06-05T17:39:59.843958Z"
    },
    "scrolled": true
   },
   "outputs": [
    {
     "name": "stdout",
     "output_type": "stream",
     "text": [
      "Search space summary\n",
      "Default search space size: 3\n",
      "units1 (Int)\n",
      "{'default': None, 'conditions': [], 'min_value': 32, 'max_value': 512, 'step': 32, 'sampling': None}\n",
      "units2 (Int)\n",
      "{'default': None, 'conditions': [], 'min_value': 32, 'max_value': 512, 'step': 32, 'sampling': None}\n",
      "learning_rate (Choice)\n",
      "{'default': 0.01, 'conditions': [], 'values': [0.01, 0.001, 0.0001], 'ordered': True}\n"
     ]
    }
   ],
   "source": [
    "bayesian_optimizer_tuner.search_space_summary()\n"
   ]
  },
  {
   "cell_type": "code",
   "execution_count": 32,
   "id": "305925f9",
   "metadata": {
    "ExecuteTime": {
     "end_time": "2022-06-05T17:40:02.188044Z",
     "start_time": "2022-06-05T17:40:02.170607Z"
    }
   },
   "outputs": [
    {
     "name": "stdout",
     "output_type": "stream",
     "text": [
      "Results summary\n",
      "Results in C:\\Users\\jlder\\Nonstop Projects\\Datasets\\sentiment_analysis_covid19_tweets\n",
      "Showing 10 best trials\n",
      "Objective(name='accuracy', direction='max')\n",
      "Trial summary\n",
      "Hyperparameters:\n",
      "units1: 96\n",
      "units2: 416\n",
      "learning_rate: 0.01\n",
      "Score: 0.8966135382652283\n",
      "Trial summary\n",
      "Hyperparameters:\n",
      "units1: 64\n",
      "units2: 224\n",
      "learning_rate: 0.01\n",
      "Score: 0.894274890422821\n"
     ]
    }
   ],
   "source": [
    "bayesian_optimizer_tuner.results_summary()"
   ]
  },
  {
   "cell_type": "code",
   "execution_count": 33,
   "id": "ec440efb",
   "metadata": {
    "ExecuteTime": {
     "end_time": "2022-06-05T17:44:43.148607Z",
     "start_time": "2022-06-05T17:42:23.083392Z"
    }
   },
   "outputs": [
    {
     "name": "stdout",
     "output_type": "stream",
     "text": [
      "1287/1287 [==============================] - 140s 102ms/step - loss: 0.3543 - accuracy: 0.886649s - lo - ETA: 46s - loss: 0.3626 - accurac\n"
     ]
    },
    {
     "data": {
      "text/plain": [
       "<tensorflow.python.keras.callbacks.History at 0x1973ba97430>"
      ]
     },
     "execution_count": 33,
     "metadata": {},
     "output_type": "execute_result"
    }
   ],
   "source": [
    "best_model = model[0]\n",
    "best_model.fit(X_train, y_train)"
   ]
  },
  {
   "cell_type": "code",
   "execution_count": 35,
   "id": "cfd20d81",
   "metadata": {
    "ExecuteTime": {
     "end_time": "2022-06-05T17:45:36.225069Z",
     "start_time": "2022-06-05T17:45:36.148572Z"
    }
   },
   "outputs": [],
   "source": [
    "best_model.save(\"best_model2.h5\")"
   ]
  }
 ],
 "metadata": {
  "interpreter": {
   "hash": "c0681729d9bed58fdaef973585def58ba959c0b461c145b09bab189a8916f591"
  },
  "kernelspec": {
   "display_name": "Python 3 (ipykernel)",
   "language": "python",
   "name": "python3"
  },
  "language_info": {
   "codemirror_mode": {
    "name": "ipython",
    "version": 3
   },
   "file_extension": ".py",
   "mimetype": "text/x-python",
   "name": "python",
   "nbconvert_exporter": "python",
   "pygments_lexer": "ipython3",
   "version": "3.9.12"
  },
  "varInspector": {
   "cols": {
    "lenName": 16,
    "lenType": 16,
    "lenVar": 40
   },
   "kernels_config": {
    "python": {
     "delete_cmd_postfix": "",
     "delete_cmd_prefix": "del ",
     "library": "var_list.py",
     "varRefreshCmd": "print(var_dic_list())"
    },
    "r": {
     "delete_cmd_postfix": ") ",
     "delete_cmd_prefix": "rm(",
     "library": "var_list.r",
     "varRefreshCmd": "cat(var_dic_list()) "
    }
   },
   "types_to_exclude": [
    "module",
    "function",
    "builtin_function_or_method",
    "instance",
    "_Feature"
   ],
   "window_display": false
  }
 },
 "nbformat": 4,
 "nbformat_minor": 5
}
