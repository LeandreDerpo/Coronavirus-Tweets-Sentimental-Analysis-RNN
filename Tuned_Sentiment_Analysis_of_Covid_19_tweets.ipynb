{
  "cells": [
    {
      "cell_type": "markdown",
      "source": [
        "# Joseph Leandre Derpo"
      ],
      "metadata": {
        "id": "lq4hykcA7sw3"
      },
      "id": "lq4hykcA7sw3"
    },
    {
      "cell_type": "markdown",
      "id": "96d5c1f5",
      "metadata": {
        "id": "96d5c1f5"
      },
      "source": [
        "### Libraries"
      ]
    },
    {
      "cell_type": "code",
      "source": [
        "!pip uninstall tensorflow -y\n",
        "!pip install  tensorflow==2.5"
      ],
      "metadata": {
        "colab": {
          "base_uri": "https://localhost:8080/",
          "height": 1000
        },
        "id": "YJB5AN0BnwX8",
        "outputId": "d6eced5b-f987-4afd-be46-46258368259e"
      },
      "id": "YJB5AN0BnwX8",
      "execution_count": 1,
      "outputs": [
        {
          "output_type": "stream",
          "name": "stdout",
          "text": [
            "Found existing installation: tensorflow 2.5.0\n",
            "Uninstalling tensorflow-2.5.0:\n",
            "  Successfully uninstalled tensorflow-2.5.0\n",
            "Looking in indexes: https://pypi.org/simple, https://us-python.pkg.dev/colab-wheels/public/simple/\n",
            "Collecting tensorflow==2.5\n",
            "  Using cached tensorflow-2.5.0-cp37-cp37m-manylinux2010_x86_64.whl (454.3 MB)\n",
            "Requirement already satisfied: wrapt~=1.12.1 in /usr/local/lib/python3.7/dist-packages (from tensorflow==2.5) (1.12.1)\n",
            "Requirement already satisfied: gast==0.4.0 in /usr/local/lib/python3.7/dist-packages (from tensorflow==2.5) (0.4.0)\n",
            "Requirement already satisfied: six~=1.15.0 in /usr/local/lib/python3.7/dist-packages (from tensorflow==2.5) (1.15.0)\n",
            "Requirement already satisfied: h5py~=3.1.0 in /usr/local/lib/python3.7/dist-packages (from tensorflow==2.5) (3.1.0)\n",
            "Requirement already satisfied: opt-einsum~=3.3.0 in /usr/local/lib/python3.7/dist-packages (from tensorflow==2.5) (3.3.0)\n",
            "Collecting numpy~=1.19.2\n",
            "  Using cached numpy-1.19.5-cp37-cp37m-manylinux2010_x86_64.whl (14.8 MB)\n",
            "Requirement already satisfied: keras-nightly~=2.5.0.dev in /usr/local/lib/python3.7/dist-packages (from tensorflow==2.5) (2.5.0.dev2021032900)\n",
            "Requirement already satisfied: grpcio~=1.34.0 in /usr/local/lib/python3.7/dist-packages (from tensorflow==2.5) (1.34.1)\n",
            "Requirement already satisfied: keras-preprocessing~=1.1.2 in /usr/local/lib/python3.7/dist-packages (from tensorflow==2.5) (1.1.2)\n",
            "Requirement already satisfied: tensorflow-estimator<2.6.0,>=2.5.0rc0 in /usr/local/lib/python3.7/dist-packages (from tensorflow==2.5) (2.5.0)\n",
            "Requirement already satisfied: flatbuffers~=1.12.0 in /usr/local/lib/python3.7/dist-packages (from tensorflow==2.5) (1.12)\n",
            "Requirement already satisfied: astunparse~=1.6.3 in /usr/local/lib/python3.7/dist-packages (from tensorflow==2.5) (1.6.3)\n",
            "Requirement already satisfied: tensorboard~=2.5 in /usr/local/lib/python3.7/dist-packages (from tensorflow==2.5) (2.9.1)\n",
            "Requirement already satisfied: wheel~=0.35 in /usr/local/lib/python3.7/dist-packages (from tensorflow==2.5) (0.38.3)\n",
            "Requirement already satisfied: typing-extensions~=3.7.4 in /usr/local/lib/python3.7/dist-packages (from tensorflow==2.5) (3.7.4.3)\n",
            "Requirement already satisfied: absl-py~=0.10 in /usr/local/lib/python3.7/dist-packages (from tensorflow==2.5) (0.15.0)\n",
            "Requirement already satisfied: google-pasta~=0.2 in /usr/local/lib/python3.7/dist-packages (from tensorflow==2.5) (0.2.0)\n",
            "Requirement already satisfied: termcolor~=1.1.0 in /usr/local/lib/python3.7/dist-packages (from tensorflow==2.5) (1.1.0)\n",
            "Requirement already satisfied: protobuf>=3.9.2 in /usr/local/lib/python3.7/dist-packages (from tensorflow==2.5) (3.19.6)\n",
            "Requirement already satisfied: cached-property in /usr/local/lib/python3.7/dist-packages (from h5py~=3.1.0->tensorflow==2.5) (1.5.2)\n",
            "Requirement already satisfied: google-auth-oauthlib<0.5,>=0.4.1 in /usr/local/lib/python3.7/dist-packages (from tensorboard~=2.5->tensorflow==2.5) (0.4.6)\n",
            "Requirement already satisfied: setuptools>=41.0.0 in /usr/local/lib/python3.7/dist-packages (from tensorboard~=2.5->tensorflow==2.5) (57.4.0)\n",
            "Requirement already satisfied: werkzeug>=1.0.1 in /usr/local/lib/python3.7/dist-packages (from tensorboard~=2.5->tensorflow==2.5) (1.0.1)\n",
            "Requirement already satisfied: tensorboard-plugin-wit>=1.6.0 in /usr/local/lib/python3.7/dist-packages (from tensorboard~=2.5->tensorflow==2.5) (1.8.1)\n",
            "Requirement already satisfied: requests<3,>=2.21.0 in /usr/local/lib/python3.7/dist-packages (from tensorboard~=2.5->tensorflow==2.5) (2.23.0)\n",
            "Requirement already satisfied: markdown>=2.6.8 in /usr/local/lib/python3.7/dist-packages (from tensorboard~=2.5->tensorflow==2.5) (3.4.1)\n",
            "Requirement already satisfied: tensorboard-data-server<0.7.0,>=0.6.0 in /usr/local/lib/python3.7/dist-packages (from tensorboard~=2.5->tensorflow==2.5) (0.6.1)\n",
            "Requirement already satisfied: google-auth<3,>=1.6.3 in /usr/local/lib/python3.7/dist-packages (from tensorboard~=2.5->tensorflow==2.5) (2.14.1)\n",
            "Requirement already satisfied: pyasn1-modules>=0.2.1 in /usr/local/lib/python3.7/dist-packages (from google-auth<3,>=1.6.3->tensorboard~=2.5->tensorflow==2.5) (0.2.8)\n",
            "Requirement already satisfied: rsa<5,>=3.1.4 in /usr/local/lib/python3.7/dist-packages (from google-auth<3,>=1.6.3->tensorboard~=2.5->tensorflow==2.5) (4.9)\n",
            "Requirement already satisfied: cachetools<6.0,>=2.0.0 in /usr/local/lib/python3.7/dist-packages (from google-auth<3,>=1.6.3->tensorboard~=2.5->tensorflow==2.5) (5.2.0)\n",
            "Requirement already satisfied: requests-oauthlib>=0.7.0 in /usr/local/lib/python3.7/dist-packages (from google-auth-oauthlib<0.5,>=0.4.1->tensorboard~=2.5->tensorflow==2.5) (1.3.1)\n",
            "Requirement already satisfied: importlib-metadata>=4.4 in /usr/local/lib/python3.7/dist-packages (from markdown>=2.6.8->tensorboard~=2.5->tensorflow==2.5) (4.13.0)\n",
            "Requirement already satisfied: zipp>=0.5 in /usr/local/lib/python3.7/dist-packages (from importlib-metadata>=4.4->markdown>=2.6.8->tensorboard~=2.5->tensorflow==2.5) (3.10.0)\n",
            "Requirement already satisfied: pyasn1<0.5.0,>=0.4.6 in /usr/local/lib/python3.7/dist-packages (from pyasn1-modules>=0.2.1->google-auth<3,>=1.6.3->tensorboard~=2.5->tensorflow==2.5) (0.4.8)\n",
            "Requirement already satisfied: chardet<4,>=3.0.2 in /usr/local/lib/python3.7/dist-packages (from requests<3,>=2.21.0->tensorboard~=2.5->tensorflow==2.5) (3.0.4)\n",
            "Requirement already satisfied: idna<3,>=2.5 in /usr/local/lib/python3.7/dist-packages (from requests<3,>=2.21.0->tensorboard~=2.5->tensorflow==2.5) (2.10)\n",
            "Requirement already satisfied: certifi>=2017.4.17 in /usr/local/lib/python3.7/dist-packages (from requests<3,>=2.21.0->tensorboard~=2.5->tensorflow==2.5) (2022.9.24)\n",
            "Requirement already satisfied: urllib3!=1.25.0,!=1.25.1,<1.26,>=1.21.1 in /usr/local/lib/python3.7/dist-packages (from requests<3,>=2.21.0->tensorboard~=2.5->tensorflow==2.5) (1.24.3)\n",
            "Requirement already satisfied: oauthlib>=3.0.0 in /usr/local/lib/python3.7/dist-packages (from requests-oauthlib>=0.7.0->google-auth-oauthlib<0.5,>=0.4.1->tensorboard~=2.5->tensorflow==2.5) (3.2.2)\n",
            "Installing collected packages: numpy, tensorflow\n",
            "  Attempting uninstall: numpy\n",
            "    Found existing installation: numpy 1.18.5\n",
            "    Uninstalling numpy-1.18.5:\n",
            "      Successfully uninstalled numpy-1.18.5\n",
            "\u001b[31mERROR: pip's dependency resolver does not currently take into account all the packages that are installed. This behaviour is the source of the following dependency conflicts.\n",
            "xarray-einstats 0.2.2 requires numpy>=1.21, but you have numpy 1.19.5 which is incompatible.\n",
            "jaxlib 0.3.22+cuda11.cudnn805 requires numpy>=1.20, but you have numpy 1.19.5 which is incompatible.\n",
            "jax 0.3.23 requires numpy>=1.20, but you have numpy 1.19.5 which is incompatible.\n",
            "google-cloud-bigquery 3.3.6 requires grpcio<2.0dev,>=1.47.0, but you have grpcio 1.34.1 which is incompatible.\n",
            "cupy-cuda11x 11.0.0 requires numpy<1.26,>=1.20, but you have numpy 1.19.5 which is incompatible.\n",
            "cmdstanpy 1.0.8 requires numpy>=1.21, but you have numpy 1.19.5 which is incompatible.\u001b[0m\n",
            "Successfully installed numpy-1.19.5 tensorflow-2.5.0\n"
          ]
        },
        {
          "output_type": "display_data",
          "data": {
            "application/vnd.colab-display-data+json": {
              "pip_warning": {
                "packages": [
                  "numpy"
                ]
              }
            }
          },
          "metadata": {}
        }
      ]
    },
    {
      "cell_type": "code",
      "source": [
        "!pip install --force-reinstall numpy==1.18.5"
      ],
      "metadata": {
        "colab": {
          "base_uri": "https://localhost:8080/",
          "height": 449
        },
        "id": "n61bIobkqIwA",
        "outputId": "1dcbce5d-59b1-472a-9620-4a891fdba19a"
      },
      "id": "n61bIobkqIwA",
      "execution_count": 2,
      "outputs": [
        {
          "output_type": "stream",
          "name": "stdout",
          "text": [
            "Looking in indexes: https://pypi.org/simple, https://us-python.pkg.dev/colab-wheels/public/simple/\n",
            "Collecting numpy==1.18.5\n",
            "  Using cached numpy-1.18.5-cp37-cp37m-manylinux1_x86_64.whl (20.1 MB)\n",
            "Installing collected packages: numpy\n",
            "  Attempting uninstall: numpy\n",
            "    Found existing installation: numpy 1.19.5\n",
            "    Uninstalling numpy-1.19.5:\n",
            "      Successfully uninstalled numpy-1.19.5\n",
            "\u001b[31mERROR: pip's dependency resolver does not currently take into account all the packages that are installed. This behaviour is the source of the following dependency conflicts.\n",
            "xarray-einstats 0.2.2 requires numpy>=1.21, but you have numpy 1.18.5 which is incompatible.\n",
            "tensorflow 2.5.0 requires numpy~=1.19.2, but you have numpy 1.18.5 which is incompatible.\n",
            "tables 3.7.0 requires numpy>=1.19.0, but you have numpy 1.18.5 which is incompatible.\n",
            "plotnine 0.8.0 requires numpy>=1.19.0, but you have numpy 1.18.5 which is incompatible.\n",
            "jaxlib 0.3.22+cuda11.cudnn805 requires numpy>=1.20, but you have numpy 1.18.5 which is incompatible.\n",
            "jax 0.3.23 requires numpy>=1.20, but you have numpy 1.18.5 which is incompatible.\n",
            "google-cloud-bigquery 3.3.6 requires grpcio<2.0dev,>=1.47.0, but you have grpcio 1.34.1 which is incompatible.\n",
            "cupy-cuda11x 11.0.0 requires numpy<1.26,>=1.20, but you have numpy 1.18.5 which is incompatible.\n",
            "cmdstanpy 1.0.8 requires numpy>=1.21, but you have numpy 1.18.5 which is incompatible.\u001b[0m\n",
            "Successfully installed numpy-1.18.5\n"
          ]
        },
        {
          "output_type": "display_data",
          "data": {
            "application/vnd.colab-display-data+json": {
              "pip_warning": {
                "packages": [
                  "numpy"
                ]
              }
            }
          },
          "metadata": {}
        }
      ]
    },
    {
      "cell_type": "code",
      "source": [
        "%tensorflow_version 2.5\n",
        "import tensorflow as tf\n",
        "print(tf.__version__)"
      ],
      "metadata": {
        "colab": {
          "base_uri": "https://localhost:8080/"
        },
        "id": "laf5_z32oJgr",
        "outputId": "01050b2a-a6d2-4ec2-bd4c-f2ba4604fd68"
      },
      "id": "laf5_z32oJgr",
      "execution_count": 3,
      "outputs": [
        {
          "output_type": "stream",
          "name": "stdout",
          "text": [
            "Colab only includes TensorFlow 2.x; %tensorflow_version has no effect.\n",
            "2.5.0\n"
          ]
        }
      ]
    },
    {
      "cell_type": "code",
      "execution_count": 4,
      "id": "323f4062",
      "metadata": {
        "ExecuteTime": {
          "end_time": "2022-06-05T16:48:22.898758Z",
          "start_time": "2022-06-05T16:48:05.766771Z"
        },
        "colab": {
          "base_uri": "https://localhost:8080/"
        },
        "id": "323f4062",
        "outputId": "c38120d0-9a20-4214-9b9b-e7c9ee87ed94"
      },
      "outputs": [
        {
          "name": "stdout",
          "output_type": "stream",
          "text": [
            "Once deleted, variables cannot be recovered. Proceed (y/[n])? y\n"
          ]
        },
        {
          "output_type": "stream",
          "name": "stderr",
          "text": [
            "[nltk_data] Downloading package stopwords to /root/nltk_data...\n",
            "[nltk_data]   Package stopwords is already up-to-date!\n"
          ]
        }
      ],
      "source": [
        "%reset\n",
        "import re\n",
        "import scipy\n",
        "import seaborn as sns\n",
        "import time\n",
        "import os\n",
        "\n",
        "import numpy as np\n",
        "import pandas as pd\n",
        "\n",
        "import matplotlib.pyplot as plt\n",
        "import plotly.graph_objects as go\n",
        "import plotly.express as px\n",
        "import plotly.figure_factory as ff\n",
        "%matplotlib inline\n",
        "\n",
        "import sklearn\n",
        "from sklearn.model_selection import train_test_split\n",
        "from sklearn.metrics import confusion_matrix\n",
        "from sklearn.metrics import classification_report\n",
        "\n",
        "import nltk\n",
        "from nltk.stem.porter import PorterStemmer\n",
        "from nltk.tokenize import TweetTokenizer\n",
        "from nltk.tokenize import word_tokenize\n",
        "from nltk.corpus import stopwords\n",
        "nltk.download('stopwords')\n",
        "\n",
        "os.environ['TF_CPP_MIN_LOG_LEVEL'] = '2' #Disables warning\n",
        "from tensorflow import random\n",
        "from tensorflow.keras.preprocessing.text import Tokenizer\n",
        "from tensorflow.keras.preprocessing.sequence import pad_sequences\n",
        "import tensorflow.keras.layers as Layer\n",
        "from tensorflow.keras.losses import SparseCategoricalCrossentropy\n",
        "from tensorflow.keras.optimizers import Adam\n",
        "from tensorflow.keras import utils\n",
        "from tensorflow.keras.callbacks import ReduceLROnPlateau, EarlyStopping"
      ]
    },
    {
      "cell_type": "markdown",
      "source": [
        "### Setting Seed"
      ],
      "metadata": {
        "id": "bx9o0Wcd7zTe"
      },
      "id": "bx9o0Wcd7zTe"
    },
    {
      "cell_type": "code",
      "execution_count": 5,
      "id": "d0b2d4d0",
      "metadata": {
        "ExecuteTime": {
          "end_time": "2022-06-05T16:48:22.929270Z",
          "start_time": "2022-06-05T16:48:22.905615Z"
        },
        "colab": {
          "base_uri": "https://localhost:8080/"
        },
        "id": "d0b2d4d0",
        "outputId": "ef4bdf9a-9f7a-45f4-a263-4a6fd2d28a48"
      },
      "outputs": [
        {
          "output_type": "stream",
          "name": "stdout",
          "text": [
            "Using seeds:  340733825\n"
          ]
        }
      ],
      "source": [
        "### Set Seeds ###\n",
        "seed_value = np.uint64(np.random.randint(0,2147483647))\n",
        "seed_value = np.uint64(340733825)\n",
        "print(\"Using seeds: \",seed_value)\n",
        "os.environ['PYTHONHASHSEED'] = str(seed_value)\n",
        "np.random.seed(seed_value)\n",
        "random.set_seed(seed_value)"
      ]
    },
    {
      "cell_type": "markdown",
      "id": "fb875533",
      "metadata": {
        "id": "fb875533"
      },
      "source": [
        "### Dataset Handling"
      ]
    },
    {
      "cell_type": "code",
      "source": [
        "from google.colab import drive\n",
        "drive.mount('/content/drive')"
      ],
      "metadata": {
        "colab": {
          "base_uri": "https://localhost:8080/"
        },
        "id": "JB1HsdW1vgdK",
        "outputId": "ff05902e-b2b8-4c90-cdfd-c4348ac0ea39"
      },
      "id": "JB1HsdW1vgdK",
      "execution_count": 6,
      "outputs": [
        {
          "output_type": "stream",
          "name": "stdout",
          "text": [
            "Drive already mounted at /content/drive; to attempt to forcibly remount, call drive.mount(\"/content/drive\", force_remount=True).\n"
          ]
        }
      ]
    },
    {
      "cell_type": "code",
      "execution_count": 7,
      "id": "d8c25c26",
      "metadata": {
        "ExecuteTime": {
          "end_time": "2022-06-05T16:48:23.280972Z",
          "start_time": "2022-06-05T16:48:22.949310Z"
        },
        "colab": {
          "base_uri": "https://localhost:8080/"
        },
        "id": "d8c25c26",
        "outputId": "43fad069-1a51-4b3b-a753-23432b23c7c2"
      },
      "outputs": [
        {
          "output_type": "stream",
          "name": "stdout",
          "text": [
            "Train dataset: 41157\n",
            "Test dataset: 3798\n"
          ]
        }
      ],
      "source": [
        "train_dataset = pd.read_csv('/content/drive/MyDrive/Corona_NLP_train.csv' , encoding = 'latin-1')\n",
        "test_dataset = pd.read_csv('/content/drive/MyDrive/Corona_NLP_test.csv', encoding = 'latin-1')\n",
        "\n",
        "print('Train dataset: {}'.format(len(train_dataset)))\n",
        "print('Test dataset: {}'.format(len(test_dataset)))"
      ]
    },
    {
      "cell_type": "code",
      "execution_count": 8,
      "id": "57d6bce3",
      "metadata": {
        "ExecuteTime": {
          "end_time": "2022-06-05T16:48:23.311252Z",
          "start_time": "2022-06-05T16:48:23.284099Z"
        },
        "id": "57d6bce3",
        "outputId": "b792f1ca-f2ab-4ec2-80d1-6ea0dd9ebf5c",
        "colab": {
          "base_uri": "https://localhost:8080/",
          "height": 206
        }
      },
      "outputs": [
        {
          "output_type": "execute_result",
          "data": {
            "text/plain": [
              "   UserName  ScreenName   Location     TweetAt  \\\n",
              "0      3799       48751     London  16-03-2020   \n",
              "1      3800       48752         UK  16-03-2020   \n",
              "2      3801       48753  Vagabonds  16-03-2020   \n",
              "3      3802       48754        NaN  16-03-2020   \n",
              "4      3803       48755        NaN  16-03-2020   \n",
              "\n",
              "                                       OriginalTweet           Sentiment  \n",
              "0  @MeNyrbie @Phil_Gahan @Chrisitv https://t.co/i...             Neutral  \n",
              "1  advice Talk to your neighbours family to excha...            Positive  \n",
              "2  Coronavirus Australia: Woolworths to give elde...            Positive  \n",
              "3  My food stock is not the only one which is emp...            Positive  \n",
              "4  Me, ready to go at supermarket during the #COV...  Extremely Negative  "
            ],
            "text/html": [
              "\n",
              "  <div id=\"df-182e1177-02e4-4545-a9e3-114582e41e62\">\n",
              "    <div class=\"colab-df-container\">\n",
              "      <div>\n",
              "<style scoped>\n",
              "    .dataframe tbody tr th:only-of-type {\n",
              "        vertical-align: middle;\n",
              "    }\n",
              "\n",
              "    .dataframe tbody tr th {\n",
              "        vertical-align: top;\n",
              "    }\n",
              "\n",
              "    .dataframe thead th {\n",
              "        text-align: right;\n",
              "    }\n",
              "</style>\n",
              "<table border=\"1\" class=\"dataframe\">\n",
              "  <thead>\n",
              "    <tr style=\"text-align: right;\">\n",
              "      <th></th>\n",
              "      <th>UserName</th>\n",
              "      <th>ScreenName</th>\n",
              "      <th>Location</th>\n",
              "      <th>TweetAt</th>\n",
              "      <th>OriginalTweet</th>\n",
              "      <th>Sentiment</th>\n",
              "    </tr>\n",
              "  </thead>\n",
              "  <tbody>\n",
              "    <tr>\n",
              "      <th>0</th>\n",
              "      <td>3799</td>\n",
              "      <td>48751</td>\n",
              "      <td>London</td>\n",
              "      <td>16-03-2020</td>\n",
              "      <td>@MeNyrbie @Phil_Gahan @Chrisitv https://t.co/i...</td>\n",
              "      <td>Neutral</td>\n",
              "    </tr>\n",
              "    <tr>\n",
              "      <th>1</th>\n",
              "      <td>3800</td>\n",
              "      <td>48752</td>\n",
              "      <td>UK</td>\n",
              "      <td>16-03-2020</td>\n",
              "      <td>advice Talk to your neighbours family to excha...</td>\n",
              "      <td>Positive</td>\n",
              "    </tr>\n",
              "    <tr>\n",
              "      <th>2</th>\n",
              "      <td>3801</td>\n",
              "      <td>48753</td>\n",
              "      <td>Vagabonds</td>\n",
              "      <td>16-03-2020</td>\n",
              "      <td>Coronavirus Australia: Woolworths to give elde...</td>\n",
              "      <td>Positive</td>\n",
              "    </tr>\n",
              "    <tr>\n",
              "      <th>3</th>\n",
              "      <td>3802</td>\n",
              "      <td>48754</td>\n",
              "      <td>NaN</td>\n",
              "      <td>16-03-2020</td>\n",
              "      <td>My food stock is not the only one which is emp...</td>\n",
              "      <td>Positive</td>\n",
              "    </tr>\n",
              "    <tr>\n",
              "      <th>4</th>\n",
              "      <td>3803</td>\n",
              "      <td>48755</td>\n",
              "      <td>NaN</td>\n",
              "      <td>16-03-2020</td>\n",
              "      <td>Me, ready to go at supermarket during the #COV...</td>\n",
              "      <td>Extremely Negative</td>\n",
              "    </tr>\n",
              "  </tbody>\n",
              "</table>\n",
              "</div>\n",
              "      <button class=\"colab-df-convert\" onclick=\"convertToInteractive('df-182e1177-02e4-4545-a9e3-114582e41e62')\"\n",
              "              title=\"Convert this dataframe to an interactive table.\"\n",
              "              style=\"display:none;\">\n",
              "        \n",
              "  <svg xmlns=\"http://www.w3.org/2000/svg\" height=\"24px\"viewBox=\"0 0 24 24\"\n",
              "       width=\"24px\">\n",
              "    <path d=\"M0 0h24v24H0V0z\" fill=\"none\"/>\n",
              "    <path d=\"M18.56 5.44l.94 2.06.94-2.06 2.06-.94-2.06-.94-.94-2.06-.94 2.06-2.06.94zm-11 1L8.5 8.5l.94-2.06 2.06-.94-2.06-.94L8.5 2.5l-.94 2.06-2.06.94zm10 10l.94 2.06.94-2.06 2.06-.94-2.06-.94-.94-2.06-.94 2.06-2.06.94z\"/><path d=\"M17.41 7.96l-1.37-1.37c-.4-.4-.92-.59-1.43-.59-.52 0-1.04.2-1.43.59L10.3 9.45l-7.72 7.72c-.78.78-.78 2.05 0 2.83L4 21.41c.39.39.9.59 1.41.59.51 0 1.02-.2 1.41-.59l7.78-7.78 2.81-2.81c.8-.78.8-2.07 0-2.86zM5.41 20L4 18.59l7.72-7.72 1.47 1.35L5.41 20z\"/>\n",
              "  </svg>\n",
              "      </button>\n",
              "      \n",
              "  <style>\n",
              "    .colab-df-container {\n",
              "      display:flex;\n",
              "      flex-wrap:wrap;\n",
              "      gap: 12px;\n",
              "    }\n",
              "\n",
              "    .colab-df-convert {\n",
              "      background-color: #E8F0FE;\n",
              "      border: none;\n",
              "      border-radius: 50%;\n",
              "      cursor: pointer;\n",
              "      display: none;\n",
              "      fill: #1967D2;\n",
              "      height: 32px;\n",
              "      padding: 0 0 0 0;\n",
              "      width: 32px;\n",
              "    }\n",
              "\n",
              "    .colab-df-convert:hover {\n",
              "      background-color: #E2EBFA;\n",
              "      box-shadow: 0px 1px 2px rgba(60, 64, 67, 0.3), 0px 1px 3px 1px rgba(60, 64, 67, 0.15);\n",
              "      fill: #174EA6;\n",
              "    }\n",
              "\n",
              "    [theme=dark] .colab-df-convert {\n",
              "      background-color: #3B4455;\n",
              "      fill: #D2E3FC;\n",
              "    }\n",
              "\n",
              "    [theme=dark] .colab-df-convert:hover {\n",
              "      background-color: #434B5C;\n",
              "      box-shadow: 0px 1px 3px 1px rgba(0, 0, 0, 0.15);\n",
              "      filter: drop-shadow(0px 1px 2px rgba(0, 0, 0, 0.3));\n",
              "      fill: #FFFFFF;\n",
              "    }\n",
              "  </style>\n",
              "\n",
              "      <script>\n",
              "        const buttonEl =\n",
              "          document.querySelector('#df-182e1177-02e4-4545-a9e3-114582e41e62 button.colab-df-convert');\n",
              "        buttonEl.style.display =\n",
              "          google.colab.kernel.accessAllowed ? 'block' : 'none';\n",
              "\n",
              "        async function convertToInteractive(key) {\n",
              "          const element = document.querySelector('#df-182e1177-02e4-4545-a9e3-114582e41e62');\n",
              "          const dataTable =\n",
              "            await google.colab.kernel.invokeFunction('convertToInteractive',\n",
              "                                                     [key], {});\n",
              "          if (!dataTable) return;\n",
              "\n",
              "          const docLinkHtml = 'Like what you see? Visit the ' +\n",
              "            '<a target=\"_blank\" href=https://colab.research.google.com/notebooks/data_table.ipynb>data table notebook</a>'\n",
              "            + ' to learn more about interactive tables.';\n",
              "          element.innerHTML = '';\n",
              "          dataTable['output_type'] = 'display_data';\n",
              "          await google.colab.output.renderOutput(dataTable, element);\n",
              "          const docLink = document.createElement('div');\n",
              "          docLink.innerHTML = docLinkHtml;\n",
              "          element.appendChild(docLink);\n",
              "        }\n",
              "      </script>\n",
              "    </div>\n",
              "  </div>\n",
              "  "
            ]
          },
          "metadata": {},
          "execution_count": 8
        }
      ],
      "source": [
        "train_dataset.head()"
      ]
    },
    {
      "cell_type": "code",
      "execution_count": 9,
      "id": "2910a75a",
      "metadata": {
        "ExecuteTime": {
          "end_time": "2022-06-05T16:48:23.387228Z",
          "start_time": "2022-06-05T16:48:23.314393Z"
        },
        "id": "2910a75a",
        "outputId": "efbc8976-cfdb-4ae3-c7b0-b962bf4fb554",
        "colab": {
          "base_uri": "https://localhost:8080/"
        }
      },
      "outputs": [
        {
          "output_type": "execute_result",
          "data": {
            "text/plain": [
              "UserName            0\n",
              "ScreenName          0\n",
              "Location         8590\n",
              "TweetAt             0\n",
              "OriginalTweet       0\n",
              "Sentiment           0\n",
              "dtype: int64"
            ]
          },
          "metadata": {},
          "execution_count": 9
        }
      ],
      "source": [
        "### Check missing and unique values ###\n",
        "train_dataset.isnull().sum()"
      ]
    },
    {
      "cell_type": "markdown",
      "id": "38a8264d",
      "metadata": {
        "id": "38a8264d"
      },
      "source": [
        "### Data Pre-processing"
      ]
    },
    {
      "cell_type": "code",
      "execution_count": 10,
      "id": "461f9cbe",
      "metadata": {
        "ExecuteTime": {
          "end_time": "2022-06-05T16:48:30.024403Z",
          "start_time": "2022-06-05T16:48:23.406123Z"
        },
        "scrolled": false,
        "id": "461f9cbe",
        "outputId": "13a317a6-bf1d-4fbb-e9ba-48ec4a1f512c",
        "colab": {
          "base_uri": "https://localhost:8080/"
        }
      },
      "outputs": [
        {
          "output_type": "execute_result",
          "data": {
            "text/plain": [
              "0                                                     \n",
              "1    advice Talk neighbours family exchange phone n...\n",
              "2    Coronavirus Australia: Woolworths give elderly...\n",
              "3    My food stock one empty... PLEASE, panic, THER...\n",
              "4    Me, ready go supermarket outbreak. Not I'm par...\n",
              "Name: OriginalTweet, dtype: object"
            ]
          },
          "metadata": {},
          "execution_count": 10
        }
      ],
      "source": [
        "X = train_dataset['OriginalTweet'].copy()\n",
        "y = train_dataset['Sentiment'].copy()\n",
        "\n",
        "def tweet_cleaner(tweet):\n",
        "\n",
        "    # remove urls\n",
        "    tweet = re.sub(r'http\\S+', ' ', tweet)\n",
        "    # remove html tags\n",
        "    tweet = re.sub(r'<.*?>',' ', tweet)\n",
        "    # remove numbers\n",
        "    tweet = re.sub(r'\\d+',' ', tweet)\n",
        "    # remove hashtags\n",
        "    tweet = re.sub(r'#\\w+',' ', tweet)\n",
        "    # remove mentions\n",
        "    tweet = re.sub(r'@\\w+',' ', tweet)\n",
        "    # remove stop words\n",
        "    tweet = tweet.split()\n",
        "    tweet = \" \".join([word for word in tweet if not word in stop_words])\n",
        "    \n",
        "    return tweet\n",
        "\n",
        "stop_words = stopwords.words('english')\n",
        "X_new = X.apply(tweet_cleaner)\n",
        "X_new.head()"
      ]
    },
    {
      "cell_type": "code",
      "source": [
        "tokenizer = Tokenizer()\n",
        "tokenizer.fit_on_texts(X_new)\n",
        "\n",
        "X = tokenizer.texts_to_sequences(X_new)\n",
        "\n",
        "vocabulary_size = len(tokenizer.word_index) + 1\n",
        "\n",
        "print(f'Vocabulary Size: {vocabulary_size}\\n')\n",
        "print(f'Case1 - Sentence:\\n{X_new[10]}\\n')\n",
        "print(f'After Tokenizing:\\n{X[10]}\\n')\n",
        "\n",
        "X = pad_sequences(X, padding='post')\n",
        "print(\"After padding :\\n{}\".format(X[10]))"
      ],
      "metadata": {
        "colab": {
          "base_uri": "https://localhost:8080/"
        },
        "id": "4k6KdEzXRTRL",
        "outputId": "dee3dff6-0c15-46fd-a0f7-37bcaff3a662"
      },
      "id": "4k6KdEzXRTRL",
      "execution_count": 11,
      "outputs": [
        {
          "output_type": "stream",
          "name": "stdout",
          "text": [
            "Vocabulary Size: 36117\n",
            "\n",
            "Case1 - Sentence:\n",
            "All month crowding supermarkets restaurants, however reducing hours closing malls means everyone using entrance dependent single supermarket.\n",
            "\n",
            "After Tokenizing:\n",
            "[118, 372, 3809, 179, 408, 803, 1613, 194, 613, 2149, 501, 77, 272, 2903, 4690, 723, 6]\n",
            "\n",
            "After padding :\n",
            "[ 118  372 3809  179  408  803 1613  194  613 2149  501   77  272 2903\n",
            " 4690  723    6    0    0    0    0    0    0    0    0    0    0    0\n",
            "    0    0    0    0    0    0    0    0    0    0    0    0    0    0\n",
            "    0    0    0    0    0    0    0    0    0    0    0    0]\n"
          ]
        }
      ]
    },
    {
      "cell_type": "code",
      "execution_count": 12,
      "id": "c8df0af8",
      "metadata": {
        "ExecuteTime": {
          "end_time": "2022-06-05T16:48:34.532670Z",
          "start_time": "2022-06-05T16:48:34.492427Z"
        },
        "id": "c8df0af8"
      },
      "outputs": [],
      "source": [
        "ord_encoded = {'Extremely Negative': 0,\n",
        "            'Negative': 0,\n",
        "            'Neutral': 1,\n",
        "            'Positive':2,\n",
        "            'Extremely Positive': 2\n",
        "           }\n",
        "\n",
        "labels = ['Negative',\n",
        "          'Neutral',\n",
        "          'Positive']\n",
        "           \n",
        "y.replace(ord_encoded, inplace=True)"
      ]
    },
    {
      "cell_type": "markdown",
      "id": "e4c16e87",
      "metadata": {
        "id": "e4c16e87"
      },
      "source": [
        "### Model Architecture"
      ]
    },
    {
      "cell_type": "code",
      "execution_count": 13,
      "id": "befec100",
      "metadata": {
        "ExecuteTime": {
          "end_time": "2022-06-05T16:48:34.547853Z",
          "start_time": "2022-06-05T16:48:34.536850Z"
        },
        "id": "befec100"
      },
      "outputs": [],
      "source": [
        "### Hyper Parameters ###\n",
        "epochs = 2\n",
        "batch_size = 32\n",
        "embedding_dimension = 16\n",
        "units = 256\n",
        "validation_split = 0.12\n",
        "verbose = 1"
      ]
    },
    {
      "cell_type": "code",
      "execution_count": 14,
      "id": "e8ad8360",
      "metadata": {
        "ExecuteTime": {
          "end_time": "2022-06-05T16:48:36.408800Z",
          "start_time": "2022-06-05T16:48:34.551496Z"
        },
        "id": "e8ad8360",
        "outputId": "4dcb4c86-d9d8-41db-ee09-ae7381b99ab7",
        "colab": {
          "base_uri": "https://localhost:8080/"
        }
      },
      "outputs": [
        {
          "output_type": "stream",
          "name": "stdout",
          "text": [
            "Model: \"sequential\"\n",
            "_________________________________________________________________\n",
            "Layer (type)                 Output Shape              Param #   \n",
            "=================================================================\n",
            "embedding (Embedding)        (None, 54, 16)            577872    \n",
            "_________________________________________________________________\n",
            "bidirectional (Bidirectional (None, 54, 512)           559104    \n",
            "_________________________________________________________________\n",
            "global_max_pooling1d (Global (None, 512)               0         \n",
            "_________________________________________________________________\n",
            "dropout (Dropout)            (None, 512)               0         \n",
            "_________________________________________________________________\n",
            "dense (Dense)                (None, 64)                32832     \n",
            "_________________________________________________________________\n",
            "dropout_1 (Dropout)          (None, 64)                0         \n",
            "_________________________________________________________________\n",
            "dense_1 (Dense)              (None, 3)                 195       \n",
            "=================================================================\n",
            "Total params: 1,170,003\n",
            "Trainable params: 1,170,003\n",
            "Non-trainable params: 0\n",
            "_________________________________________________________________\n",
            "CPU times: user 1.35 s, sys: 419 ms, total: 1.77 s\n",
            "Wall time: 2.22 s\n"
          ]
        }
      ],
      "source": [
        "%%time\n",
        "import tensorflow as tf\n",
        "tf.keras.backend.clear_session()\n",
        "\n",
        "model = tf.keras.Sequential([\n",
        "    Layer.Embedding(vocabulary_size, embedding_dimension, input_length=X.shape[1]),\n",
        "    Layer.Bidirectional(Layer.LSTM(units,return_sequences=True)),\n",
        "    Layer.GlobalMaxPool1D(),\n",
        "    Layer.Dropout(0.4),\n",
        "    Layer.Dense(64, activation=\"relu\"),\n",
        "    Layer.Dropout(0.4),\n",
        "    Layer.Dense(3)\n",
        "])\n",
        "\n",
        "model.summary()"
      ]
    },
    {
      "cell_type": "code",
      "execution_count": 15,
      "id": "8497f1be",
      "metadata": {
        "ExecuteTime": {
          "end_time": "2022-06-05T16:48:36.454347Z",
          "start_time": "2022-06-05T16:48:36.413513Z"
        },
        "id": "8497f1be"
      },
      "outputs": [],
      "source": [
        "model.compile(loss=SparseCategoricalCrossentropy(from_logits=True),\n",
        "              optimizer='adam',\n",
        "              metrics=['accuracy'])"
      ]
    },
    {
      "cell_type": "code",
      "execution_count": 16,
      "id": "85ad2115",
      "metadata": {
        "ExecuteTime": {
          "end_time": "2022-06-05T16:48:36.469538Z",
          "start_time": "2022-06-05T16:48:36.460624Z"
        },
        "id": "85ad2115"
      },
      "outputs": [],
      "source": [
        "callbacks = [ ReduceLROnPlateau(monitor='val_loss', patience=5, cooldown=0),\n",
        "              EarlyStopping(monitor='val_accuracy', min_delta=1e-4, patience=5)]"
      ]
    },
    {
      "cell_type": "code",
      "execution_count": 17,
      "id": "25ff0406",
      "metadata": {
        "ExecuteTime": {
          "end_time": "2022-06-05T16:56:48.044449Z",
          "start_time": "2022-06-05T16:48:36.474789Z"
        },
        "scrolled": true,
        "id": "25ff0406",
        "outputId": "7850a220-a8b1-4aa1-f30e-84b5684833ae",
        "colab": {
          "base_uri": "https://localhost:8080/"
        }
      },
      "outputs": [
        {
          "output_type": "stream",
          "name": "stdout",
          "text": [
            "Epoch 1/2\n",
            "1132/1132 [==============================] - 38s 26ms/step - loss: 0.6753 - accuracy: 0.7090 - val_loss: 0.3952 - val_accuracy: 0.8623\n",
            "Epoch 2/2\n",
            "1132/1132 [==============================] - 20s 17ms/step - loss: 0.3383 - accuracy: 0.8896 - val_loss: 0.3649 - val_accuracy: 0.8807\n",
            "CPU times: user 57.7 s, sys: 4.58 s, total: 1min 2s\n",
            "Wall time: 1min 27s\n"
          ]
        }
      ],
      "source": [
        "%%time\n",
        "history = model.fit(X, y, \n",
        "          epochs=epochs, \n",
        "          validation_split=validation_split,\n",
        "          verbose=verbose,\n",
        "          batch_size=batch_size,\n",
        "          callbacks=callbacks)"
      ]
    },
    {
      "cell_type": "code",
      "execution_count": 18,
      "id": "77c45227",
      "metadata": {
        "ExecuteTime": {
          "end_time": "2022-06-05T16:56:48.551446Z",
          "start_time": "2022-06-05T16:56:48.049144Z"
        },
        "scrolled": true,
        "id": "77c45227",
        "outputId": "a95eb270-a6ca-4d5b-8ecc-c53c2abed474",
        "colab": {
          "base_uri": "https://localhost:8080/",
          "height": 295
        }
      },
      "outputs": [
        {
          "output_type": "display_data",
          "data": {
            "text/plain": [
              "<Figure size 432x288 with 1 Axes>"
            ],
            "image/png": "[encoded data removed]"
          },
          "metadata": {
            "needs_background": "light"
          }
        }
      ],
      "source": [
        "loss = history.history['loss']\n",
        "val_loss = history.history['val_loss']\n",
        "\n",
        "epochs = range(len(loss))\n",
        "\n",
        "plt.plot(epochs, loss, 'g', label = 'Training Loss')\n",
        "plt.plot(epochs, val_loss, 'b', label = 'Validation loss')\n",
        "plt.title('Training and Validation Loss')\n",
        "plt.xlabel('Epochs')\n",
        "plt.ylabel('Loss')\n",
        "\n",
        "plt.legend()\n",
        "plt.show()"
      ]
    },
    {
      "cell_type": "code",
      "execution_count": 19,
      "id": "f66a5e9b",
      "metadata": {
        "ExecuteTime": {
          "end_time": "2022-06-05T16:56:48.873117Z",
          "start_time": "2022-06-05T16:56:48.554594Z"
        },
        "id": "f66a5e9b",
        "outputId": "08a2a5f7-775f-41c6-bb73-2380de18015c",
        "colab": {
          "base_uri": "https://localhost:8080/",
          "height": 295
        }
      },
      "outputs": [
        {
          "output_type": "display_data",
          "data": {
            "text/plain": [
              "<Figure size 432x288 with 1 Axes>"
            ],
            "image/png": "[encoded data removed]"
          },
          "metadata": {
            "needs_background": "light"
          }
        }
      ],
      "source": [
        "accuracy = history.history['accuracy']\n",
        "val_accuracy = history.history['val_accuracy']\n",
        "\n",
        "epochs = range(len(accuracy))\n",
        "\n",
        "plt.plot(epochs, accuracy, 'g', label='Training accuracy')\n",
        "plt.plot(epochs, val_accuracy, 'b', label='Validation accuracy')\n",
        "plt.title('Training and Validation accuracy')\n",
        "plt.xlabel('Epochs')\n",
        "plt.ylabel('Accuracy')\n",
        "\n",
        "plt.legend()\n",
        "plt.show()"
      ]
    },
    {
      "cell_type": "code",
      "execution_count": 20,
      "id": "935b5592",
      "metadata": {
        "ExecuteTime": {
          "end_time": "2022-06-05T16:56:49.992240Z",
          "start_time": "2022-06-05T16:56:48.876760Z"
        },
        "id": "935b5592"
      },
      "outputs": [],
      "source": [
        "X_test = test_dataset['OriginalTweet'].copy()\n",
        "y_test = test_dataset['Sentiment'].copy()\n",
        "\n",
        "X_test = X_test.apply(tweet_cleaner)\n",
        "X_test = tokenizer.texts_to_sequences(X_test)\n",
        "X_test = pad_sequences(X_test, padding='post')\n",
        "\n",
        "y_test.replace(ord_encoded, inplace=True)"
      ]
    },
    {
      "cell_type": "code",
      "execution_count": 21,
      "id": "47f26ce1",
      "metadata": {
        "ExecuteTime": {
          "end_time": "2022-06-05T16:57:02.937447Z",
          "start_time": "2022-06-05T16:56:49.996414Z"
        },
        "id": "47f26ce1",
        "outputId": "07870461-1526-479b-aac5-0acb67308d67",
        "colab": {
          "base_uri": "https://localhost:8080/"
        }
      },
      "outputs": [
        {
          "output_type": "stream",
          "name": "stderr",
          "text": [
            "WARNING:tensorflow:Model was constructed with shape (None, 54) for input KerasTensor(type_spec=TensorSpec(shape=(None, 54), dtype=tf.float32, name='embedding_input'), name='embedding_input', description=\"created by layer 'embedding_input'\"), but it was called on an input with incompatible shape (None, 48).\n",
            "WARNING:tensorflow:Model was constructed with shape (None, 54) for input KerasTensor(type_spec=TensorSpec(shape=(None, 54), dtype=tf.float32, name='embedding_input'), name='embedding_input', description=\"created by layer 'embedding_input'\"), but it was called on an input with incompatible shape (None, 48).\n"
          ]
        },
        {
          "output_type": "stream",
          "name": "stdout",
          "text": [
            "\n",
            "ACCURACY:  0.8546603322029114\n",
            "LOSS:  0.4220030903816223\n"
          ]
        }
      ],
      "source": [
        "# y_pred = model.predict_classes(X_test)\n",
        "y_pred = np.argmax(model.predict(X_test), axis=-1)\n",
        "score = model.evaluate(X_test, y_test, verbose = 0, batch_size = batch_size)\n",
        "print()\n",
        "\n",
        "print(\"ACCURACY: \", score[1])\n",
        "print(\"LOSS: \", score[0])"
      ]
    },
    {
      "cell_type": "code",
      "execution_count": 22,
      "id": "83626dbe",
      "metadata": {
        "ExecuteTime": {
          "end_time": "2022-06-05T16:57:03.078034Z",
          "start_time": "2022-06-05T16:57:02.941617Z"
        },
        "id": "83626dbe"
      },
      "outputs": [],
      "source": [
        "model.save('best_model.h5')"
      ]
    },
    {
      "cell_type": "code",
      "execution_count": 23,
      "id": "72cb1e4e",
      "metadata": {
        "ExecuteTime": {
          "end_time": "2022-06-05T16:57:03.123427Z",
          "start_time": "2022-06-05T16:57:03.082208Z"
        },
        "scrolled": true,
        "id": "72cb1e4e",
        "colab": {
          "base_uri": "https://localhost:8080/"
        },
        "outputId": "b2d204ae-e043-4864-b7f1-c87926f9e36f"
      },
      "outputs": [
        {
          "output_type": "stream",
          "name": "stdout",
          "text": [
            "              precision    recall  f1-score   support\n",
            "\n",
            "    Negative       0.88      0.83      0.85      1633\n",
            "     Neutral       0.88      0.79      0.84       619\n",
            "    Positive       0.83      0.91      0.86      1546\n",
            "\n",
            "    accuracy                           0.85      3798\n",
            "   macro avg       0.86      0.84      0.85      3798\n",
            "weighted avg       0.86      0.85      0.85      3798\n",
            "\n"
          ]
        }
      ],
      "source": [
        "print(classification_report(y_test, y_pred, target_names=labels))"
      ]
    },
    {
      "cell_type": "code",
      "execution_count": 24,
      "id": "e5ad8771",
      "metadata": {
        "ExecuteTime": {
          "end_time": "2022-06-05T16:57:03.518389Z",
          "start_time": "2022-06-05T16:57:03.128120Z"
        },
        "scrolled": false,
        "id": "e5ad8771",
        "colab": {
          "base_uri": "https://localhost:8080/",
          "height": 704
        },
        "outputId": "9d34c5b9-cee6-4844-c8fd-aef9e87c6fef"
      },
      "outputs": [
        {
          "output_type": "display_data",
          "data": {
            "text/plain": [
              "<Figure size 864x864 with 2 Axes>"
            ],
            "image/png": "[encoded data removed]"
          },
          "metadata": {
            "needs_background": "light"
          }
        }
      ],
      "source": [
        "conf_mat = confusion_matrix(y_test, y_pred)\n",
        "\n",
        "cm = pd.DataFrame(\n",
        "    conf_mat, index = [i for i in labels],\n",
        "    columns = [i for i in labels]\n",
        ")\n",
        "\n",
        "plt.figure(figsize = (12,12))\n",
        "sns.heatmap(cm, annot=True, fmt=\"d\")\n",
        "plt.show()"
      ]
    },
    {
      "cell_type": "markdown",
      "source": [
        "### Trying out prediction of covid19 tweet"
      ],
      "metadata": {
        "id": "pwy-mb8ts8lU"
      },
      "id": "pwy-mb8ts8lU"
    },
    {
      "cell_type": "code",
      "execution_count": 25,
      "id": "bd8a8abc",
      "metadata": {
        "ExecuteTime": {
          "end_time": "2022-06-05T16:57:03.533582Z",
          "start_time": "2022-06-05T16:57:03.521513Z"
        },
        "code_folding": [],
        "id": "bd8a8abc"
      },
      "outputs": [],
      "source": [
        "max_length = 350\n",
        "### Predict if tweet is positive or negative ###\n",
        "def predict_sentiment(input):\n",
        "    tweet = input\n",
        "    tweet_sequences = tokenizer.texts_to_sequences(tweet)\n",
        "    # Padded Sequence\n",
        "    padded = pad_sequences(tweet_sequences, padding='post', maxlen=max_length)\n",
        "    # Obtain based on probability 1 if probability >= 0.5 else 0\n",
        "    prediction = np.argmax(model.predict(padded), axis=-1)\n",
        "    pred_labels = []\n",
        "    for i in prediction:\n",
        "        if i >= 0.5:\n",
        "            pred_labels.append(1)\n",
        "        else:\n",
        "            pred_labels.append(0)\n",
        "    for i in range(len(tweet)):\n",
        "        print(tweet[i])\n",
        "        if pred_labels[i] == 1:\n",
        "            s = 'Positive'\n",
        "        elif pred_labels[i] == 0:\n",
        "            s = 'Negative'\n",
        "        else:\n",
        "            s = 'Neutral'\n",
        "        print(\"Predicted sentiment : \",s)"
      ]
    },
    {
      "cell_type": "code",
      "execution_count": 26,
      "id": "64d042fe",
      "metadata": {
        "ExecuteTime": {
          "end_time": "2022-06-05T16:57:03.564144Z",
          "start_time": "2022-06-05T16:57:03.536734Z"
        },
        "id": "64d042fe",
        "outputId": "3d3bac4d-6ad4-4d8a-cfe0-5e2e5cdb153e",
        "colab": {
          "base_uri": "https://localhost:8080/"
        }
      },
      "outputs": [
        {
          "output_type": "stream",
          "name": "stderr",
          "text": [
            "WARNING:tensorflow:Model was constructed with shape (None, 54) for input KerasTensor(type_spec=TensorSpec(shape=(None, 54), dtype=tf.float32, name='embedding_input'), name='embedding_input', description=\"created by layer 'embedding_input'\"), but it was called on an input with incompatible shape (None, 350).\n"
          ]
        },
        {
          "output_type": "stream",
          "name": "stdout",
          "text": [
            "Always wear your mask outside\n",
            "Predicted sentiment :  Positive\n",
            "Do not take vitamins to not get sick from Covid\n",
            "Predicted sentiment :  Negative\n"
          ]
        }
      ],
      "source": [
        "predict_sentiment([\"Always wear your mask outside\", \"Do not take vitamins to not get sick from Covid\"])"
      ]
    },
    {
      "cell_type": "markdown",
      "id": "48d463fb",
      "metadata": {
        "id": "48d463fb"
      },
      "source": [
        "### Hyper-Parameter Tuning for 2 max trials with 2 epochs"
      ]
    },
    {
      "cell_type": "code",
      "source": [
        "!pip install keras-tuner"
      ],
      "metadata": {
        "colab": {
          "base_uri": "https://localhost:8080/"
        },
        "id": "QFoTTE23v70i",
        "outputId": "da97283b-1ce4-477a-a31a-c9d0134cc1ba"
      },
      "id": "QFoTTE23v70i",
      "execution_count": 27,
      "outputs": [
        {
          "output_type": "stream",
          "name": "stdout",
          "text": [
            "Looking in indexes: https://pypi.org/simple, https://us-python.pkg.dev/colab-wheels/public/simple/\n",
            "Requirement already satisfied: keras-tuner in /usr/local/lib/python3.7/dist-packages (1.1.3)\n",
            "Requirement already satisfied: requests in /usr/local/lib/python3.7/dist-packages (from keras-tuner) (2.23.0)\n",
            "Requirement already satisfied: tensorboard in /usr/local/lib/python3.7/dist-packages (from keras-tuner) (2.9.1)\n",
            "Requirement already satisfied: packaging in /usr/local/lib/python3.7/dist-packages (from keras-tuner) (21.3)\n",
            "Requirement already satisfied: kt-legacy in /usr/local/lib/python3.7/dist-packages (from keras-tuner) (1.0.4)\n",
            "Requirement already satisfied: numpy in /usr/local/lib/python3.7/dist-packages (from keras-tuner) (1.18.5)\n",
            "Requirement already satisfied: ipython in /usr/local/lib/python3.7/dist-packages (from keras-tuner) (7.9.0)\n",
            "Requirement already satisfied: jedi>=0.10 in /usr/local/lib/python3.7/dist-packages (from ipython->keras-tuner) (0.18.1)\n",
            "Requirement already satisfied: decorator in /usr/local/lib/python3.7/dist-packages (from ipython->keras-tuner) (4.4.2)\n",
            "Requirement already satisfied: pygments in /usr/local/lib/python3.7/dist-packages (from ipython->keras-tuner) (2.6.1)\n",
            "Requirement already satisfied: traitlets>=4.2 in /usr/local/lib/python3.7/dist-packages (from ipython->keras-tuner) (5.1.1)\n",
            "Requirement already satisfied: backcall in /usr/local/lib/python3.7/dist-packages (from ipython->keras-tuner) (0.2.0)\n",
            "Requirement already satisfied: prompt-toolkit<2.1.0,>=2.0.0 in /usr/local/lib/python3.7/dist-packages (from ipython->keras-tuner) (2.0.10)\n",
            "Requirement already satisfied: pexpect in /usr/local/lib/python3.7/dist-packages (from ipython->keras-tuner) (4.8.0)\n",
            "Requirement already satisfied: setuptools>=18.5 in /usr/local/lib/python3.7/dist-packages (from ipython->keras-tuner) (57.4.0)\n",
            "Requirement already satisfied: pickleshare in /usr/local/lib/python3.7/dist-packages (from ipython->keras-tuner) (0.7.5)\n",
            "Requirement already satisfied: parso<0.9.0,>=0.8.0 in /usr/local/lib/python3.7/dist-packages (from jedi>=0.10->ipython->keras-tuner) (0.8.3)\n",
            "Requirement already satisfied: six>=1.9.0 in /usr/local/lib/python3.7/dist-packages (from prompt-toolkit<2.1.0,>=2.0.0->ipython->keras-tuner) (1.15.0)\n",
            "Requirement already satisfied: wcwidth in /usr/local/lib/python3.7/dist-packages (from prompt-toolkit<2.1.0,>=2.0.0->ipython->keras-tuner) (0.2.5)\n",
            "Requirement already satisfied: pyparsing!=3.0.5,>=2.0.2 in /usr/local/lib/python3.7/dist-packages (from packaging->keras-tuner) (3.0.9)\n",
            "Requirement already satisfied: ptyprocess>=0.5 in /usr/local/lib/python3.7/dist-packages (from pexpect->ipython->keras-tuner) (0.7.0)\n",
            "Requirement already satisfied: certifi>=2017.4.17 in /usr/local/lib/python3.7/dist-packages (from requests->keras-tuner) (2022.9.24)\n",
            "Requirement already satisfied: idna<3,>=2.5 in /usr/local/lib/python3.7/dist-packages (from requests->keras-tuner) (2.10)\n",
            "Requirement already satisfied: chardet<4,>=3.0.2 in /usr/local/lib/python3.7/dist-packages (from requests->keras-tuner) (3.0.4)\n",
            "Requirement already satisfied: urllib3!=1.25.0,!=1.25.1,<1.26,>=1.21.1 in /usr/local/lib/python3.7/dist-packages (from requests->keras-tuner) (1.24.3)\n",
            "Requirement already satisfied: google-auth<3,>=1.6.3 in /usr/local/lib/python3.7/dist-packages (from tensorboard->keras-tuner) (2.14.1)\n",
            "Requirement already satisfied: tensorboard-data-server<0.7.0,>=0.6.0 in /usr/local/lib/python3.7/dist-packages (from tensorboard->keras-tuner) (0.6.1)\n",
            "Requirement already satisfied: absl-py>=0.4 in /usr/local/lib/python3.7/dist-packages (from tensorboard->keras-tuner) (0.15.0)\n",
            "Requirement already satisfied: werkzeug>=1.0.1 in /usr/local/lib/python3.7/dist-packages (from tensorboard->keras-tuner) (1.0.1)\n",
            "Requirement already satisfied: tensorboard-plugin-wit>=1.6.0 in /usr/local/lib/python3.7/dist-packages (from tensorboard->keras-tuner) (1.8.1)\n",
            "Requirement already satisfied: google-auth-oauthlib<0.5,>=0.4.1 in /usr/local/lib/python3.7/dist-packages (from tensorboard->keras-tuner) (0.4.6)\n",
            "Requirement already satisfied: wheel>=0.26 in /usr/local/lib/python3.7/dist-packages (from tensorboard->keras-tuner) (0.38.3)\n",
            "Requirement already satisfied: markdown>=2.6.8 in /usr/local/lib/python3.7/dist-packages (from tensorboard->keras-tuner) (3.4.1)\n",
            "Requirement already satisfied: protobuf<3.20,>=3.9.2 in /usr/local/lib/python3.7/dist-packages (from tensorboard->keras-tuner) (3.19.6)\n",
            "Requirement already satisfied: grpcio>=1.24.3 in /usr/local/lib/python3.7/dist-packages (from tensorboard->keras-tuner) (1.34.1)\n",
            "Requirement already satisfied: rsa<5,>=3.1.4 in /usr/local/lib/python3.7/dist-packages (from google-auth<3,>=1.6.3->tensorboard->keras-tuner) (4.9)\n",
            "Requirement already satisfied: cachetools<6.0,>=2.0.0 in /usr/local/lib/python3.7/dist-packages (from google-auth<3,>=1.6.3->tensorboard->keras-tuner) (5.2.0)\n",
            "Requirement already satisfied: pyasn1-modules>=0.2.1 in /usr/local/lib/python3.7/dist-packages (from google-auth<3,>=1.6.3->tensorboard->keras-tuner) (0.2.8)\n",
            "Requirement already satisfied: requests-oauthlib>=0.7.0 in /usr/local/lib/python3.7/dist-packages (from google-auth-oauthlib<0.5,>=0.4.1->tensorboard->keras-tuner) (1.3.1)\n",
            "Requirement already satisfied: importlib-metadata>=4.4 in /usr/local/lib/python3.7/dist-packages (from markdown>=2.6.8->tensorboard->keras-tuner) (4.13.0)\n",
            "Requirement already satisfied: typing-extensions>=3.6.4 in /usr/local/lib/python3.7/dist-packages (from importlib-metadata>=4.4->markdown>=2.6.8->tensorboard->keras-tuner) (3.7.4.3)\n",
            "Requirement already satisfied: zipp>=0.5 in /usr/local/lib/python3.7/dist-packages (from importlib-metadata>=4.4->markdown>=2.6.8->tensorboard->keras-tuner) (3.10.0)\n",
            "Requirement already satisfied: pyasn1<0.5.0,>=0.4.6 in /usr/local/lib/python3.7/dist-packages (from pyasn1-modules>=0.2.1->google-auth<3,>=1.6.3->tensorboard->keras-tuner) (0.4.8)\n",
            "Requirement already satisfied: oauthlib>=3.0.0 in /usr/local/lib/python3.7/dist-packages (from requests-oauthlib>=0.7.0->google-auth-oauthlib<0.5,>=0.4.1->tensorboard->keras-tuner) (3.2.2)\n"
          ]
        }
      ]
    },
    {
      "cell_type": "code",
      "execution_count": 28,
      "id": "b9962172",
      "metadata": {
        "ExecuteTime": {
          "end_time": "2022-06-05T17:37:30.826093Z",
          "start_time": "2022-06-05T17:34:38.118477Z"
        },
        "scrolled": true,
        "id": "b9962172",
        "colab": {
          "base_uri": "https://localhost:8080/"
        },
        "outputId": "64f18d9b-1643-4dbf-d2e4-ae4a97a59937"
      },
      "outputs": [
        {
          "output_type": "stream",
          "name": "stdout",
          "text": [
            "Trial 2 Complete [00h 00m 11s]\n",
            "accuracy: 0.8954593539237976\n",
            "\n",
            "Best accuracy So Far: 0.8954593539237976\n",
            "Total elapsed time: 00h 00m 25s\n",
            "CPU times: user 28.4 s, sys: 1.96 s, total: 30.4 s\n",
            "Wall time: 27.6 s\n"
          ]
        }
      ],
      "source": [
        "%%time\n",
        "#2 epoch con 2 max_trials\n",
        "from tensorflow import keras\n",
        "from kerastuner.tuners import BayesianOptimization\n",
        "from tensorflow.keras.models import Sequential\n",
        "from tensorflow.keras.layers import Dense, Dropout, Embedding, LSTM, Bidirectional, GlobalMaxPool1D\n",
        "\n",
        "\n",
        "def build_model(hyperparameter):\n",
        "    model = Sequential()\n",
        "    hp_units1 = hyperparameter.Int('units1', min_value=32, max_value=512, step=32)\n",
        "    hp_units2 = hyperparameter.Int('units2', min_value=32, max_value=512, step=32)\n",
        "    model.add(Embedding(vocabulary_size, embedding_dimension, input_length = X.shape[1]))\n",
        "    model.add(Bidirectional(LSTM(units = hp_units1,return_sequences=True))) #model.add(Bidirectional(LSTM(units = hp.Int(units, min_value = 32, max_value = 512, step = 32),return_sequences=True)))\n",
        "    model.add(GlobalMaxPool1D())\n",
        "    model.add(Dropout(0.4))\n",
        "    model.add(Dense(units = hp_units2, activation = 'relu')) #model.add(Dense(units = hp.Int(64, min_value = 32, max_value = 512, step = 32), activation = 'relu'))\n",
        "    model.add(Dropout(0.4))\n",
        "    model.add(Dense(3))\n",
        "\n",
        "    model.compile(loss=SparseCategoricalCrossentropy(from_logits=True), metrics=['accuracy'], \n",
        "                  optimizer=Adam(hyperparameter.Choice('learning_rate',values=[1e-2, 1e-3, 1e-4])))\n",
        "\n",
        "    return model\n",
        "\n",
        "bayesian_optimizer_tuner = BayesianOptimization(build_model,\n",
        "                                                objective='accuracy',\n",
        "                                                max_trials=2,\n",
        "                                                executions_per_trial=1,\n",
        "                                                directory=os.path.normpath(''),\n",
        "                                                project_name = 'sentiment_analysis_covid19_tweets',\n",
        "                                                overwrite=True)\n",
        "\n",
        "EVALUATION_INTERVAL = 200\n",
        "EPOCHS = 2\n",
        "stop_early = EarlyStopping(monitor='val_loss', patience=5) #min_delta=1e-4, patience=5\n",
        "\n",
        "bayesian_optimizer_tuner.search(X, y,\n",
        "                               epochs=EPOCHS,\n",
        "                               validation_data=(X_test, y_test),\n",
        "                               validation_steps=50,\n",
        "                               validation_split=1.2,\n",
        "                               steps_per_epoch=EVALUATION_INTERVAL,\n",
        "                               callbacks=[stop_early]\n",
        "                               #verbose=1\n",
        "                               )\n",
        "\n",
        "bayes_opt_model_best_model = bayesian_optimizer_tuner.get_best_models(num_models=1)\n",
        "model = bayes_opt_model_best_model"
      ]
    },
    {
      "cell_type": "code",
      "execution_count": 29,
      "id": "9d8b0d60",
      "metadata": {
        "ExecuteTime": {
          "end_time": "2022-06-05T17:39:59.860780Z",
          "start_time": "2022-06-05T17:39:59.843958Z"
        },
        "scrolled": true,
        "id": "9d8b0d60",
        "colab": {
          "base_uri": "https://localhost:8080/"
        },
        "outputId": "b08f9daf-fcf5-4527-faae-c4a3ab31096f"
      },
      "outputs": [
        {
          "output_type": "stream",
          "name": "stdout",
          "text": [
            "Search space summary\n",
            "Default search space size: 3\n",
            "units1 (Int)\n",
            "{'default': None, 'conditions': [], 'min_value': 32, 'max_value': 512, 'step': 32, 'sampling': None}\n",
            "units2 (Int)\n",
            "{'default': None, 'conditions': [], 'min_value': 32, 'max_value': 512, 'step': 32, 'sampling': None}\n",
            "learning_rate (Choice)\n",
            "{'default': 0.01, 'conditions': [], 'values': [0.01, 0.001, 0.0001], 'ordered': True}\n"
          ]
        }
      ],
      "source": [
        "bayesian_optimizer_tuner.search_space_summary()"
      ]
    },
    {
      "cell_type": "code",
      "execution_count": 30,
      "id": "305925f9",
      "metadata": {
        "ExecuteTime": {
          "end_time": "2022-06-05T17:40:02.188044Z",
          "start_time": "2022-06-05T17:40:02.170607Z"
        },
        "id": "305925f9",
        "colab": {
          "base_uri": "https://localhost:8080/"
        },
        "outputId": "72dedb3b-29b3-4943-b04f-16bae498ee3f"
      },
      "outputs": [
        {
          "output_type": "stream",
          "name": "stdout",
          "text": [
            "Results summary\n",
            "Results in ./sentiment_analysis_covid19_tweets\n",
            "Showing 10 best trials\n",
            "<keras_tuner.engine.objective.Objective object at 0x7f191eaf2bd0>\n",
            "Trial summary\n",
            "Hyperparameters:\n",
            "units1: 64\n",
            "units2: 96\n",
            "learning_rate: 0.01\n",
            "Score: 0.8954593539237976\n",
            "Trial summary\n",
            "Hyperparameters:\n",
            "units1: 160\n",
            "units2: 96\n",
            "learning_rate: 0.0001\n",
            "Score: 0.47878512740135193\n"
          ]
        }
      ],
      "source": [
        "bayesian_optimizer_tuner.results_summary()"
      ]
    },
    {
      "cell_type": "code",
      "execution_count": 31,
      "id": "ec440efb",
      "metadata": {
        "ExecuteTime": {
          "end_time": "2022-06-05T17:44:43.148607Z",
          "start_time": "2022-06-05T17:42:23.083392Z"
        },
        "id": "ec440efb",
        "colab": {
          "base_uri": "https://localhost:8080/"
        },
        "outputId": "c552236e-a669-4f28-fc2c-ec0bcc72995c"
      },
      "outputs": [
        {
          "output_type": "stream",
          "name": "stdout",
          "text": [
            "1287/1287 [==============================] - 34s 24ms/step - loss: 0.3483 - accuracy: 0.8898\n"
          ]
        },
        {
          "output_type": "execute_result",
          "data": {
            "text/plain": [
              "<tensorflow.python.keras.callbacks.History at 0x7f191c1f95d0>"
            ]
          },
          "metadata": {},
          "execution_count": 31
        }
      ],
      "source": [
        "best_model = model[0]\n",
        "best_model.fit(X, y)"
      ]
    },
    {
      "cell_type": "code",
      "execution_count": 32,
      "id": "cfd20d81",
      "metadata": {
        "ExecuteTime": {
          "end_time": "2022-06-05T17:45:36.225069Z",
          "start_time": "2022-06-05T17:45:36.148572Z"
        },
        "id": "cfd20d81"
      },
      "outputs": [],
      "source": [
        "best_model.save(\"best_model2.h5\")"
      ]
    }
  ],
  "metadata": {
    "interpreter": {
      "hash": "c0681729d9bed58fdaef973585def58ba959c0b461c145b09bab189a8916f591"
    },
    "kernelspec": {
      "display_name": "Python 3 (ipykernel)",
      "language": "python",
      "name": "python3"
    },
    "language_info": {
      "codemirror_mode": {
        "name": "ipython",
        "version": 3
      },
      "file_extension": ".py",
      "mimetype": "text/x-python",
      "name": "python",
      "nbconvert_exporter": "python",
      "pygments_lexer": "ipython3",
      "version": "3.9.12"
    },
    "varInspector": {
      "cols": {
        "lenName": 16,
        "lenType": 16,
        "lenVar": 40
      },
      "kernels_config": {
        "python": {
          "delete_cmd_postfix": "",
          "delete_cmd_prefix": "del ",
          "library": "var_list.py",
          "varRefreshCmd": "print(var_dic_list())"
        },
        "r": {
          "delete_cmd_postfix": ") ",
          "delete_cmd_prefix": "rm(",
          "library": "var_list.r",
          "varRefreshCmd": "cat(var_dic_list()) "
        }
      },
      "types_to_exclude": [
        "module",
        "function",
        "builtin_function_or_method",
        "instance",
        "_Feature"
      ],
      "window_display": false
    },
    "colab": {
      "provenance": [],
      "collapsed_sections": []
    },
    "accelerator": "GPU",
    "gpuClass": "standard"
  },
  "nbformat": 4,
  "nbformat_minor": 5
}